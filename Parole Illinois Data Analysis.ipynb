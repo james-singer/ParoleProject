{
 "cells": [
  {
   "cell_type": "code",
   "execution_count": 413,
   "metadata": {},
   "outputs": [],
   "source": [
    "import pandas as pd\n",
    "from pandas.tseries.offsets import MonthEnd\n",
    "import matplotlib.pyplot as plt"
   ]
  },
  {
   "cell_type": "code",
   "execution_count": 414,
   "metadata": {},
   "outputs": [],
   "source": [
    "# Read in data\n",
    "df = pd.read_excel(\"Cleaned June 2020 Prison Stock Pop.xls\")"
   ]
  },
  {
   "cell_type": "code",
   "execution_count": 415,
   "metadata": {},
   "outputs": [],
   "source": [
    "# Clean data\n",
    "df[\"Custody Date\"] = pd.to_datetime(df[\"Custody Date\"], format=\"%Y-%m-%d\") #Custody Date is the start of an inmate's sentence\n",
    "df[\"Current Admission Date\"] = pd.to_datetime(df[\"Current Admission Date\"], format=\"%Y-%m-%d\")\n",
    "df[\"Date of Birth\"] = pd.to_datetime(df[\"Date of Birth\"], format=\"%Y-%m-%d\")"
   ]
  },
  {
   "cell_type": "code",
   "execution_count": 416,
   "metadata": {},
   "outputs": [
    {
     "data": {
      "text/html": [
       "<div>\n",
       "<style scoped>\n",
       "    .dataframe tbody tr th:only-of-type {\n",
       "        vertical-align: middle;\n",
       "    }\n",
       "\n",
       "    .dataframe tbody tr th {\n",
       "        vertical-align: top;\n",
       "    }\n",
       "\n",
       "    .dataframe thead th {\n",
       "        text-align: right;\n",
       "    }\n",
       "</style>\n",
       "<table border=\"1\" class=\"dataframe\">\n",
       "  <thead>\n",
       "    <tr style=\"text-align: right;\">\n",
       "      <th></th>\n",
       "      <th>IDOC #</th>\n",
       "      <th>Name</th>\n",
       "      <th>Date of Birth</th>\n",
       "      <th>Sex</th>\n",
       "      <th>Race</th>\n",
       "      <th>Veteran Status</th>\n",
       "      <th>Current Admission Date</th>\n",
       "      <th>Admission Type</th>\n",
       "      <th>Parent Institution</th>\n",
       "      <th>Projected Mandatory Supervised Release (MSR) Date</th>\n",
       "      <th>Projected Discharge Date</th>\n",
       "      <th>Custody Date</th>\n",
       "      <th>Sentence Date</th>\n",
       "      <th>Crime Class</th>\n",
       "      <th>Holding Offense</th>\n",
       "      <th>Sentence Years</th>\n",
       "      <th>Sentence Months</th>\n",
       "      <th>Truth in Sentencing</th>\n",
       "      <th>Sentencing County</th>\n",
       "    </tr>\n",
       "  </thead>\n",
       "  <tbody>\n",
       "    <tr>\n",
       "      <td>0</td>\n",
       "      <td>A00147</td>\n",
       "      <td>MCCUTCHEON, JOHN</td>\n",
       "      <td>1949-06-14</td>\n",
       "      <td>Male</td>\n",
       "      <td>White</td>\n",
       "      <td>Yes</td>\n",
       "      <td>1983-02-16</td>\n",
       "      <td>Discharged &amp; recommitted</td>\n",
       "      <td>Dixon</td>\n",
       "      <td>2033-10-06 00:00:00</td>\n",
       "      <td>2036-10-06 00:00:00</td>\n",
       "      <td>1982-11-26</td>\n",
       "      <td>1983-02-15</td>\n",
       "      <td>Class X</td>\n",
       "      <td>ATTEMPT MURDER/INTENT TO KILL/INJURE</td>\n",
       "      <td>0050</td>\n",
       "      <td>00</td>\n",
       "      <td>Day-for-Day</td>\n",
       "      <td>Jasper</td>\n",
       "    </tr>\n",
       "    <tr>\n",
       "      <td>1</td>\n",
       "      <td>A01054</td>\n",
       "      <td>TIPTON, DARNELL</td>\n",
       "      <td>1954-03-25</td>\n",
       "      <td>Male</td>\n",
       "      <td>Black</td>\n",
       "      <td>No</td>\n",
       "      <td>1988-12-23</td>\n",
       "      <td>Parole violator, New sentence</td>\n",
       "      <td>Western Illinois</td>\n",
       "      <td>2065-08-14 00:00:00</td>\n",
       "      <td>2068-08-14 00:00:00</td>\n",
       "      <td>1986-09-29</td>\n",
       "      <td>1987-08-07</td>\n",
       "      <td>Class X</td>\n",
       "      <td>AGG CRIM SEX ASSAULT/WEAPON</td>\n",
       "      <td>0060</td>\n",
       "      <td>00</td>\n",
       "      <td>Day-for-Day</td>\n",
       "      <td>Cook</td>\n",
       "    </tr>\n",
       "    <tr>\n",
       "      <td>2</td>\n",
       "      <td>A01072</td>\n",
       "      <td>BRISBON, HENRY</td>\n",
       "      <td>1956-01-12</td>\n",
       "      <td>Male</td>\n",
       "      <td>Black</td>\n",
       "      <td>No</td>\n",
       "      <td>1974-02-22</td>\n",
       "      <td>Direct from court</td>\n",
       "      <td>Pontiac</td>\n",
       "      <td>NaN</td>\n",
       "      <td>NaN</td>\n",
       "      <td>1982-02-24</td>\n",
       "      <td>1982-02-24</td>\n",
       "      <td>Murder</td>\n",
       "      <td>MURDER/INTENT TO KILL/INJURE</td>\n",
       "      <td>LIFE</td>\n",
       "      <td></td>\n",
       "      <td>Day-for-Day</td>\n",
       "      <td>Will</td>\n",
       "    </tr>\n",
       "    <tr>\n",
       "      <td>3</td>\n",
       "      <td>A01077</td>\n",
       "      <td>JONES, ROBERT</td>\n",
       "      <td>1953-04-03</td>\n",
       "      <td>Male</td>\n",
       "      <td>Black</td>\n",
       "      <td>No</td>\n",
       "      <td>1983-09-16</td>\n",
       "      <td>MSR violator, New sentence</td>\n",
       "      <td>Pinckneyville</td>\n",
       "      <td>NaN</td>\n",
       "      <td>NaN</td>\n",
       "      <td>1982-04-13</td>\n",
       "      <td>1983-09-15</td>\n",
       "      <td>Murder</td>\n",
       "      <td>MURDER/INTENT TO KILL/INJURE</td>\n",
       "      <td>LIFE</td>\n",
       "      <td></td>\n",
       "      <td>Day-for-Day</td>\n",
       "      <td>Cook</td>\n",
       "    </tr>\n",
       "    <tr>\n",
       "      <td>4</td>\n",
       "      <td>A01148</td>\n",
       "      <td>BROWN, RONALD</td>\n",
       "      <td>1955-02-02</td>\n",
       "      <td>Male</td>\n",
       "      <td>Black</td>\n",
       "      <td>No</td>\n",
       "      <td>2005-12-13</td>\n",
       "      <td>Discharged &amp; recommitted</td>\n",
       "      <td>Western Illinois</td>\n",
       "      <td>NaN</td>\n",
       "      <td>NaN</td>\n",
       "      <td>1998-10-03</td>\n",
       "      <td>2005-12-09</td>\n",
       "      <td>Murder</td>\n",
       "      <td>MURDER/INTENT TO KILL/INJURE</td>\n",
       "      <td>LIFE</td>\n",
       "      <td></td>\n",
       "      <td>Day-for-Day</td>\n",
       "      <td>Cook</td>\n",
       "    </tr>\n",
       "    <tr>\n",
       "      <td>...</td>\n",
       "      <td>...</td>\n",
       "      <td>...</td>\n",
       "      <td>...</td>\n",
       "      <td>...</td>\n",
       "      <td>...</td>\n",
       "      <td>...</td>\n",
       "      <td>...</td>\n",
       "      <td>...</td>\n",
       "      <td>...</td>\n",
       "      <td>...</td>\n",
       "      <td>...</td>\n",
       "      <td>...</td>\n",
       "      <td>...</td>\n",
       "      <td>...</td>\n",
       "      <td>...</td>\n",
       "      <td>...</td>\n",
       "      <td>...</td>\n",
       "      <td>...</td>\n",
       "      <td>...</td>\n",
       "    </tr>\n",
       "    <tr>\n",
       "      <td>32043</td>\n",
       "      <td>Y42081</td>\n",
       "      <td>LEISGANG, ANDREA S.</td>\n",
       "      <td>1982-03-01</td>\n",
       "      <td>Female</td>\n",
       "      <td>White</td>\n",
       "      <td>Unknown</td>\n",
       "      <td>2020-03-26</td>\n",
       "      <td>Direct from court</td>\n",
       "      <td>Logan</td>\n",
       "      <td>2082-08-20 00:00:00</td>\n",
       "      <td>NaN</td>\n",
       "      <td>2018-11-20</td>\n",
       "      <td>2020-03-20</td>\n",
       "      <td>Class X</td>\n",
       "      <td>PRED CRIM SEX ASSLAUT/VICTIM &lt;13</td>\n",
       "      <td>0060</td>\n",
       "      <td>00</td>\n",
       "      <td>85%</td>\n",
       "      <td>Madison</td>\n",
       "    </tr>\n",
       "    <tr>\n",
       "      <td>32044</td>\n",
       "      <td>Y42082</td>\n",
       "      <td>KECK, BRANDY J.</td>\n",
       "      <td>1978-07-23</td>\n",
       "      <td>Female</td>\n",
       "      <td>White</td>\n",
       "      <td>Unknown</td>\n",
       "      <td>2020-03-26</td>\n",
       "      <td>Direct from court</td>\n",
       "      <td>Logan</td>\n",
       "      <td>2020-07-24 00:00:00</td>\n",
       "      <td>2021-07-24 00:00:00</td>\n",
       "      <td>2020-01-24</td>\n",
       "      <td>2020-03-23</td>\n",
       "      <td>Class 4</td>\n",
       "      <td>POSS AMT CON SUB EXCEPT(A)/(D)</td>\n",
       "      <td>0001</td>\n",
       "      <td>00</td>\n",
       "      <td>Day-for-Day</td>\n",
       "      <td>Madison</td>\n",
       "    </tr>\n",
       "    <tr>\n",
       "      <td>32045</td>\n",
       "      <td>Y42083</td>\n",
       "      <td>NELLIGAN, JOHN J.</td>\n",
       "      <td>1988-08-31</td>\n",
       "      <td>Male</td>\n",
       "      <td>White</td>\n",
       "      <td>Unknown</td>\n",
       "      <td>2020-03-26</td>\n",
       "      <td>Direct from court</td>\n",
       "      <td>Graham</td>\n",
       "      <td>2021-02-20 00:00:00</td>\n",
       "      <td>2022-02-20 00:00:00</td>\n",
       "      <td>2020-02-20</td>\n",
       "      <td>2020-03-19</td>\n",
       "      <td>Class 4</td>\n",
       "      <td>POSS AMT CON SUB EXCEPT(A)/(D)</td>\n",
       "      <td>0003</td>\n",
       "      <td>00</td>\n",
       "      <td>Day-for-Day</td>\n",
       "      <td>Jefferson</td>\n",
       "    </tr>\n",
       "    <tr>\n",
       "      <td>32046</td>\n",
       "      <td>Y42173</td>\n",
       "      <td>GONZALEZ, RENE</td>\n",
       "      <td>1973-06-13</td>\n",
       "      <td>Male</td>\n",
       "      <td>Hispanic</td>\n",
       "      <td>Unknown</td>\n",
       "      <td>2020-06-18</td>\n",
       "      <td>Technical MSR violator</td>\n",
       "      <td>Stateville</td>\n",
       "      <td>2020-05-11 00:00:00</td>\n",
       "      <td>2022-05-11 00:00:00</td>\n",
       "      <td>2018-09-10</td>\n",
       "      <td>2020-04-22</td>\n",
       "      <td>Class 2</td>\n",
       "      <td>AGG CRIM SEX ABUSE/VICTIM &lt;13</td>\n",
       "      <td>0003</td>\n",
       "      <td>00</td>\n",
       "      <td>Day-for-Day</td>\n",
       "      <td>Cook</td>\n",
       "    </tr>\n",
       "    <tr>\n",
       "      <td>32047</td>\n",
       "      <td>Y42392</td>\n",
       "      <td>URDIALES, JESSE</td>\n",
       "      <td>1999-06-28</td>\n",
       "      <td>Male</td>\n",
       "      <td>Hispanic</td>\n",
       "      <td>No</td>\n",
       "      <td>2020-06-26</td>\n",
       "      <td>Transferred from juvenile</td>\n",
       "      <td>Menard</td>\n",
       "      <td>2028-08-23 00:00:00</td>\n",
       "      <td>NaN</td>\n",
       "      <td>2015-11-23</td>\n",
       "      <td>2017-02-09</td>\n",
       "      <td>Class X</td>\n",
       "      <td>AGG CRIM SEX ASSAULT/VICTIM &lt;9</td>\n",
       "      <td>0015</td>\n",
       "      <td>00</td>\n",
       "      <td>85%</td>\n",
       "      <td>Cook</td>\n",
       "    </tr>\n",
       "  </tbody>\n",
       "</table>\n",
       "<p>32048 rows × 19 columns</p>\n",
       "</div>"
      ],
      "text/plain": [
       "       IDOC #                 Name Date of Birth     Sex      Race  \\\n",
       "0      A00147     MCCUTCHEON, JOHN    1949-06-14    Male     White   \n",
       "1      A01054      TIPTON, DARNELL    1954-03-25    Male     Black   \n",
       "2      A01072       BRISBON, HENRY    1956-01-12    Male     Black   \n",
       "3      A01077        JONES, ROBERT    1953-04-03    Male     Black   \n",
       "4      A01148        BROWN, RONALD    1955-02-02    Male     Black   \n",
       "...       ...                  ...           ...     ...       ...   \n",
       "32043  Y42081  LEISGANG, ANDREA S.    1982-03-01  Female     White   \n",
       "32044  Y42082      KECK, BRANDY J.    1978-07-23  Female     White   \n",
       "32045  Y42083    NELLIGAN, JOHN J.    1988-08-31    Male     White   \n",
       "32046  Y42173       GONZALEZ, RENE    1973-06-13    Male  Hispanic   \n",
       "32047  Y42392      URDIALES, JESSE    1999-06-28    Male  Hispanic   \n",
       "\n",
       "      Veteran Status Current Admission Date                 Admission Type  \\\n",
       "0                Yes             1983-02-16       Discharged & recommitted   \n",
       "1                 No             1988-12-23  Parole violator, New sentence   \n",
       "2                 No             1974-02-22              Direct from court   \n",
       "3                 No             1983-09-16     MSR violator, New sentence   \n",
       "4                 No             2005-12-13       Discharged & recommitted   \n",
       "...              ...                    ...                            ...   \n",
       "32043        Unknown             2020-03-26              Direct from court   \n",
       "32044        Unknown             2020-03-26              Direct from court   \n",
       "32045        Unknown             2020-03-26              Direct from court   \n",
       "32046        Unknown             2020-06-18         Technical MSR violator   \n",
       "32047             No             2020-06-26      Transferred from juvenile   \n",
       "\n",
       "      Parent Institution Projected Mandatory Supervised Release (MSR) Date  \\\n",
       "0                  Dixon                               2033-10-06 00:00:00   \n",
       "1       Western Illinois                               2065-08-14 00:00:00   \n",
       "2                Pontiac                                               NaN   \n",
       "3          Pinckneyville                                               NaN   \n",
       "4       Western Illinois                                               NaN   \n",
       "...                  ...                                               ...   \n",
       "32043              Logan                               2082-08-20 00:00:00   \n",
       "32044              Logan                               2020-07-24 00:00:00   \n",
       "32045             Graham                               2021-02-20 00:00:00   \n",
       "32046         Stateville                               2020-05-11 00:00:00   \n",
       "32047             Menard                               2028-08-23 00:00:00   \n",
       "\n",
       "      Projected Discharge Date Custody Date Sentence Date Crime Class  \\\n",
       "0          2036-10-06 00:00:00   1982-11-26    1983-02-15     Class X   \n",
       "1          2068-08-14 00:00:00   1986-09-29    1987-08-07     Class X   \n",
       "2                          NaN   1982-02-24    1982-02-24      Murder   \n",
       "3                          NaN   1982-04-13    1983-09-15      Murder   \n",
       "4                          NaN   1998-10-03    2005-12-09      Murder   \n",
       "...                        ...          ...           ...         ...   \n",
       "32043                      NaN   2018-11-20    2020-03-20     Class X   \n",
       "32044      2021-07-24 00:00:00   2020-01-24    2020-03-23     Class 4   \n",
       "32045      2022-02-20 00:00:00   2020-02-20    2020-03-19     Class 4   \n",
       "32046      2022-05-11 00:00:00   2018-09-10    2020-04-22     Class 2   \n",
       "32047                      NaN   2015-11-23    2017-02-09     Class X   \n",
       "\n",
       "                            Holding Offense Sentence Years Sentence Months  \\\n",
       "0      ATTEMPT MURDER/INTENT TO KILL/INJURE           0050              00   \n",
       "1               AGG CRIM SEX ASSAULT/WEAPON           0060              00   \n",
       "2              MURDER/INTENT TO KILL/INJURE           LIFE                   \n",
       "3              MURDER/INTENT TO KILL/INJURE           LIFE                   \n",
       "4              MURDER/INTENT TO KILL/INJURE           LIFE                   \n",
       "...                                     ...            ...             ...   \n",
       "32043      PRED CRIM SEX ASSLAUT/VICTIM <13           0060              00   \n",
       "32044        POSS AMT CON SUB EXCEPT(A)/(D)           0001              00   \n",
       "32045        POSS AMT CON SUB EXCEPT(A)/(D)           0003              00   \n",
       "32046         AGG CRIM SEX ABUSE/VICTIM <13           0003              00   \n",
       "32047        AGG CRIM SEX ASSAULT/VICTIM <9           0015              00   \n",
       "\n",
       "      Truth in Sentencing Sentencing County  \n",
       "0             Day-for-Day            Jasper  \n",
       "1             Day-for-Day              Cook  \n",
       "2             Day-for-Day              Will  \n",
       "3             Day-for-Day              Cook  \n",
       "4             Day-for-Day              Cook  \n",
       "...                   ...               ...  \n",
       "32043                 85%           Madison  \n",
       "32044         Day-for-Day           Madison  \n",
       "32045         Day-for-Day         Jefferson  \n",
       "32046         Day-for-Day              Cook  \n",
       "32047                 85%              Cook  \n",
       "\n",
       "[32048 rows x 19 columns]"
      ]
     },
     "execution_count": 416,
     "metadata": {},
     "output_type": "execute_result"
    }
   ],
   "source": [
    "df"
   ]
  },
  {
   "cell_type": "code",
   "execution_count": 417,
   "metadata": {},
   "outputs": [],
   "source": [
    "# VARIABLES TO BE USED IN MULTIPLE CALCULATIONS\n",
    "\n",
    "# Costs\n",
    "costOfAnInmate = 39710 #Updated from $42,000\n",
    "costOfAnInmateOverFifty = 65980\n",
    "costOfAnInmateOverSixty = 68270\n",
    "costOfPersonOnParole = 2290\n",
    "\n",
    "# EDR Hearings per month limit\n",
    "maxHearingsPerMonth2022 = 500\n",
    "\n",
    "# Grant rates\n",
    "conservativeGrantRate = .197\n",
    "semiconservativeGrantRate = .356\n",
    "liberalGrantRate = .465\n",
    "\n",
    "# Inmates qualified for EDR prior to January 1st, 2022\n",
    "before2022 = pd.to_datetime(str(2022 - 20) + \"-01-01\")\n",
    "qualifiedBefore2022 = len(df.loc[(df[\"Current Admission Date\"] < before2022)])"
   ]
  },
  {
   "cell_type": "code",
   "execution_count": 418,
   "metadata": {},
   "outputs": [],
   "source": [
    "# Helper function for plotting\n",
    "def autolabel(rects, plt):\n",
    "    # Get y-axis height to calculate label position from.\n",
    "    (y_bottom, y_top) = plt.get_ylim()\n",
    "    y_height = y_top - y_bottom\n",
    "\n",
    "    for rect in rects:\n",
    "        height = rect.get_height()\n",
    "\n",
    "        # Fraction of axis height taken up by this rectangle\n",
    "        p_height = (height / y_height)\n",
    "\n",
    "        # If we can fit the label above the column, do that;\n",
    "        # otherwise, put it inside the column.\n",
    "        if p_height > 0.90: # arbitrary; 95% looked good to me.\n",
    "            label_position = height - (y_height * 0.05)\n",
    "        else:\n",
    "            label_position = height + (y_height * 0.01)\n",
    "\n",
    "        plt.text(rect.get_x() + rect.get_width()/2., label_position,\n",
    "                '%d' % (height),\n",
    "                ha='center', va='bottom')"
   ]
  },
  {
   "cell_type": "markdown",
   "metadata": {},
   "source": [
    "# Statistics for Inmates Granted EDR in 2022\n",
    "### Number of Inmates Released by End of 2022, and Savings from Doing So"
   ]
  },
  {
   "cell_type": "code",
   "execution_count": 419,
   "metadata": {},
   "outputs": [
    {
     "name": "stdout",
     "output_type": "stream",
     "text": [
      "3224\n",
      "60321040.0\n"
     ]
    }
   ],
   "source": [
    "#Calculate the number of inmates who will have served 20 years of their sentence by 2022\n",
    "twentyYearsServedDate = pd.to_datetime(str(2022 - 20) + \"-12-31\")\n",
    "\n",
    "numReleased = len(df.loc[df[\"Current Admission Date\"] <= twentyYearsServedDate])\n",
    "\n",
    "#Savings from the reduction in inmate population\n",
    "savings = (numReleased * (costOfAnInmate - costOfPersonOnParole) / 2)\n",
    "print(numReleased)\n",
    "print(savings)"
   ]
  },
  {
   "cell_type": "markdown",
   "metadata": {},
   "source": [
    "The statistics below have been calculated assuming all inmates who have served 20, or more years of their sentence by the end of 2022, will be granted Earned Discretionary Release(EDR) <br>\n",
    "\n",
    "- Number of inmates granted EDR with a 100% grant rate: 4408\n",
    "- Savings to the state of Illinois due to the inmate population reduction: $141,210,280\n",
    "<br>\n",
    "\n",
    "The number of inmates granted EDR by December 31st, 2022 includes inmates who served 20 years or more of their sentence prior to January 1st, 2022."
   ]
  },
  {
   "cell_type": "markdown",
   "metadata": {},
   "source": [
    "### How Calculations were Made\n",
    "- I pulled out all inmates who started their sentences on December 31st, 2002 or earlier from the whole data set. The size of this subset is the number of people who will be granted EDR in 2022\n",
    "- The cost per incarcerated person per year is \\\\$34,135, and the cost of a person who is on parole is \\\\$2,100. To calculate the total savings, the number of inmates who will be released by the end of 2022 was multiplied by \\\\$34,135, and from that, the total cost of parolees is subtracted."
   ]
  },
  {
   "cell_type": "markdown",
   "metadata": {},
   "source": [
    "### Plot number of Inmates Granted Parole per Month With 100% Grant Rate"
   ]
  },
  {
   "cell_type": "code",
   "execution_count": 420,
   "metadata": {},
   "outputs": [
    {
     "data": {
      "image/png": "[encoded data removed]",
      "text/plain": [
       "<Figure size 720x360 with 1 Axes>"
      ]
     },
     "metadata": {
      "needs_background": "light"
     },
     "output_type": "display_data"
    }
   ],
   "source": [
    "monthlyNumReleased = []\n",
    "spillOver = qualifiedBefore2022\n",
    "#Store data that will be plotted\n",
    "for month in range(1, 13):\n",
    "    startOfMonth = pd.to_datetime(str(2022 - 20) + \"-\"+ str(month) + \"-01\")\n",
    "    endOfMonth = pd.to_datetime(str(2022 - 20) + \"-\"+ str(month)) + MonthEnd(0)\n",
    "    \n",
    "    numQualifiedDuringMonth = len(df.loc[(df[\"Current Admission Date\"] >= startOfMonth) & (df[\"Current Admission Date\"] <= endOfMonth)])\n",
    "    numReleased = numQualifiedDuringMonth + spillOver\n",
    "    \n",
    "    #Account for limits to number of hearings per month\n",
    "    if(numReleased >= maxHearingsPerMonth2022):\n",
    "        monthlyNumReleased.append(maxHearingsPerMonth2022)\n",
    "        spillOver = spillOver - (maxHearingsPerMonth2022 - numQualifiedDuringMonth)\n",
    "    elif(numReleased >= 0):\n",
    "        monthlyNumReleased.append(numReleased)\n",
    "        spillOver = 0\n",
    "    else:\n",
    "        monthlyNumReleased.append(numReleased)\n",
    "        \n",
    "# Plot EDR hearing data\n",
    "plot = plt.figure(figsize=(10,5))\n",
    "ax = plot.add_subplot(1,1,1)\n",
    "rects = ax.bar(['Jan', 'Feb', 'Mar', 'Apr', 'May', 'Jun', 'Jul', 'Aug', 'Sep', 'Oct', 'Nov', 'Dec'], monthlyNumReleased)\n",
    "plt.title(\"Number of EDR Hearings per Month in 2022\")\n",
    "plt.xlabel(\"Month\")\n",
    "plt.ylabel(\"Number of EDR Hearings\")\n",
    "autolabel(rects, ax)\n",
    "plt.show()"
   ]
  },
  {
   "cell_type": "markdown",
   "metadata": {},
   "source": [
    "### How Calculations were Made\n",
    "- The maximum number of EDR hearings per month is 500 hearings. There were 3908 inmates who qualified for EDR prior to Januart 1st, 2022. Inmates who served exactly 20 years of their sentence in a given month were given an EDR hearing that month. The remaining number of inmates a committee can see, up to 500, is filled by inmates who served 20 years, or more of their sentences prior to January 1st, 2022. Remaining inmates are rolled over to the next month."
   ]
  },
  {
   "cell_type": "markdown",
   "metadata": {},
   "source": [
    "# Statistics for Number of Inmates 60, or Older to be Released in 2022"
   ]
  },
  {
   "cell_type": "code",
   "execution_count": 421,
   "metadata": {},
   "outputs": [],
   "source": [
    "def calcNumInmatesOfAgeInRange(startYear, endYear, age, grantRate):\n",
    "    population = df.copy()\n",
    "    numEDRDenials = dict()\n",
    "    numEDRHearings = []\n",
    "    \n",
    "    for year in range(startYear, endYear + 1):\n",
    "        #Get sub-dictionary of inmates who are 'age' or older\n",
    "        birthdateCutoff = pd.to_datetime(str(year - age) + \"-12-31\")\n",
    "        dfAgeAndOlder = population.loc[(population[\"Date of Birth\"] <= birthdateCutoff)]\n",
    "        \n",
    "        #Get number of inmates who are 'age' or older, AND have served 20 years or more of their sentence\n",
    "        twentyYearsServedDate = pd.to_datetime(str(year - 20) + \"-12-31\")\n",
    "        servedTwentyYears = dfAgeAndOlder.loc[population[\"Current Admission Date\"] <= twentyYearsServedDate]\n",
    "        numOverAgeReleased = len(servedTwentyYears)\n",
    "        \n",
    "        if(year == startYear or year == startYear + 1):\n",
    "            #Add total number of EDR hearings for this year\n",
    "            numEDRHearings.append(float(numOverAgeReleased))\n",
    "\n",
    "            #Add total number of EDR denials for current year including reapplications every 2 years\n",
    "            numEDRDenials[year] = (float(numOverAgeReleased)) * (1 - grantRate)\n",
    "            \n",
    "            #Drop released inmates from population\n",
    "            #print(\"Length\", population.shape, \", \", int(numOverAgeReleased * grantRate))\n",
    "            population = population[~(population[\"IDOC #\"].isin(servedTwentyYears[\"IDOC #\"].head(int(numOverAgeReleased * grantRate))))]\n",
    "            \n",
    "        if(year >= (startYear + 2)):\n",
    "            #Add total number of EDR hearings for this year\n",
    "            numEDRHearings.append(numOverAgeReleased + numEDRDenials[year - 2])\n",
    "\n",
    "            #Add total number of EDR denials for current year including reapplications every 2 years\n",
    "            numEDRDenials[year] = (numOverAgeReleased + numEDRDenials[year - 2]) * (1 - grantRate)\n",
    "            \n",
    "            #Drop released inmates from population\n",
    "            #print(\"Length\", population.shape, \", \", int((numOverAgeReleased + numEDRDenials[year - 2]) * grantRate))\n",
    "            population = population[~(population[\"IDOC #\"].isin(servedTwentyYears[\"IDOC #\"].head(int((numOverAgeReleased + numEDRDenials[year - 2]) * grantRate))))]\n",
    "    \n",
    "    #print([int(grantRate * numEDRHearingsPerYear) for numEDRHearingsPerYear in numEDRHearings])\n",
    "    #print()\n",
    "    numInmatesReleasedTotal = sum([int(grantRate * numEDRHearingsPerYear) for numEDRHearingsPerYear in numEDRHearings])\n",
    "    return (numInmatesReleasedTotal, numEDRHearings, grantRate) #Cast to int truncates"
   ]
  },
  {
   "cell_type": "code",
   "execution_count": 422,
   "metadata": {},
   "outputs": [
    {
     "name": "stdout",
     "output_type": "stream",
     "text": [
      "1096\n",
      "36157040.0\n"
     ]
    }
   ],
   "source": [
    "numOverSixty = calcNumInmatesOfAgeInRange(2022, 2022, 60, 1)\n",
    "\n",
    "print(numOverSixty[0])\n",
    "print(numOverSixty[0] * (costOfAnInmateOverSixty - costOfPersonOnParole) / 2)"
   ]
  },
  {
   "cell_type": "markdown",
   "metadata": {},
   "source": [
    "- Number of inmates over 60 and served >= 20 years of their sentence: 1252\n",
    "- Savings from releasing inmates over 60, served >= 20 years of sentence: $82,844,840"
   ]
  },
  {
   "cell_type": "markdown",
   "metadata": {},
   "source": [
    "### How Calculations were Made\n",
    "- I pulled out inmates who were over the age of 60 by December 31st, 2022, and who had served 20 years, or more of their sentence by December 31st, 2022. The size of this subset of inmates is the value for the number of inmates over the age of 60, who qualify for EDR. This assumes a grant rate of 100%.\n",
    "\n",
    "- The cost per incarcerated person 60 or older per year is \\\\$68,270. To calculate the total savings from releasing this subset of inmates, the number of inmates 60 or older who will be released by the end of 2022 was multiplied by \\\\$68,270."
   ]
  },
  {
   "cell_type": "markdown",
   "metadata": {},
   "source": [
    "# Statistics for Number of Inmates 60, or Older to be Released in 2022-2027, and 2022-2032"
   ]
  },
  {
   "cell_type": "code",
   "execution_count": 423,
   "metadata": {},
   "outputs": [
    {
     "data": {
      "text/plain": [
       "339203180.0"
      ]
     },
     "execution_count": 423,
     "metadata": {},
     "output_type": "execute_result"
    }
   ],
   "source": [
    "def calcCumulativeCost(numEDRHearings, grantRate, startYear, endYear, costOfInmate):\n",
    "    totalCost = 0\n",
    "    year = endYear - startYear + 1\n",
    "    numInmatesReleased = [(grantRate * numEDRHearingsPerYear) for numEDRHearingsPerYear in numEDRHearings]\n",
    "    \n",
    "    for numInmates in numInmatesReleased:\n",
    "        savingsPerYearOfAllReleasedInYear = int(numInmates) * (costOfInmate - costOfPersonOnParole)\n",
    "        totalCost += (savingsPerYearOfAllReleasedInYear / 2) #First year\n",
    "        totalCost += savingsPerYearOfAllReleasedInYear * (year - 1) #Remaining years in time range\n",
    "        year = year - 1\n",
    "        \n",
    "    return (totalCost)\n",
    "\n",
    "tenYearsConservative = calcNumInmatesOfAgeInRange(2022, 2027, 60, conservativeGrantRate)\n",
    "calcCumulativeCost(tenYearsConservative[1], tenYearsConservative[2], 2022, 2027, costOfAnInmateOverSixty)"
   ]
  },
  {
   "cell_type": "code",
   "execution_count": 424,
   "metadata": {
    "scrolled": true
   },
   "outputs": [
    {
     "name": "stdout",
     "output_type": "stream",
     "text": [
      "Number of inmates 60 or older to be released in 2022-2027 with conservative grant rate:  1970\n",
      "Savings from releasing inmates 60 or older in 2022-2027 with conservative grant rate:  339203180.0\n",
      "Number of inmates 60 or older to be released in 2022-2032 with conservative grant rate:  4085\n",
      "Savings from releasing inmates 60 or older in 2022-2032 with conservative grant rate:  1338107390.0\n",
      "\n",
      "\n",
      "Number of inmates 60 or older to be released in 2022-2027 with semi-conservative grant rate:  2349\n",
      "Savings from releasing inmates 60 or older in 2022-2027 with semi-conservative grant rate:  467897170.0\n",
      "Number of inmates 60 or older to be released in 2022-2032 with semi-conservative grant rate:  4240\n",
      "Savings from releasing inmates 60 or older in 2022-2032 with semi-conservative grant rate:  1546571200.0\n",
      "\n",
      "\n",
      "Number of inmates 60 or older to be released in 2022-2027 with liberal grant rate:  2402\n",
      "Savings from releasing inmates 60 or older in 2022-2027 with liberal grant rate:  515435760.0\n",
      "Number of inmates 60 or older to be released in 2022-2032 with liberal grant rate:  4223\n",
      "Savings from releasing inmates 60 or older in 2022-2032 with liberal grant rate:  1592064410.0\n",
      "\n",
      "\n",
      "Number of inmates 50 or older to be released in 2022-2027 with conservative grant rate:  3747\n",
      "Savings from releasing inmates 50 or older in 2022-2027 with conservative grant rate:  628142625.0\n",
      "Number of inmates 50 or older to be released in 2022-2032 with conservative grant rate:  7566\n",
      "Savings from releasing inmates 50 or older in 2022-2032 with conservative grant rate:  2436142500.0\n",
      "\n",
      "\n",
      "Number of inmates 50 or older to be released in 2022-2027 with semi-conservative grant rate:  4459\n",
      "Savings from releasing inmates 50 or older in 2022-2027 with semi-conservative grant rate:  864623595.0\n",
      "Number of inmates 50 or older to be released in 2022-2032 with semi-conservative grant rate:  7815\n",
      "Savings from releasing inmates 50 or older in 2022-2032 with semi-conservative grant rate:  2815066155.0\n",
      "\n",
      "\n",
      "Number of inmates 50 or older to be released in 2022-2027 with liberal grant rate:  4550\n",
      "Savings from releasing inmates 50 or older in 2022-2027 with liberal grant rate:  952038120.0\n",
      "Number of inmates 50 or older to be released in 2022-2032 with liberal grant rate:  7725\n",
      "Savings from releasing inmates 50 or older in 2022-2032 with liberal grant rate:  2890092975.0\n"
     ]
    }
   ],
   "source": [
    "fiveYearsConservative = calcNumInmatesOfAgeInRange(2022, 2027, 60, conservativeGrantRate)\n",
    "tenYearsConservative = calcNumInmatesOfAgeInRange(2022, 2032, 60, conservativeGrantRate)\n",
    "fiveYearsConservativeCost = calcCumulativeCost(fiveYearsConservative[1],fiveYearsConservative[2], 2022, 2027, costOfAnInmateOverSixty)\n",
    "tenYearsConservativeCost = calcCumulativeCost(tenYearsConservative[1], tenYearsConservative[2], 2022, 2032, costOfAnInmateOverSixty)\n",
    "print(\"Number of inmates 60 or older to be released in 2022-2027 with conservative grant rate: \", fiveYearsConservative[0])\n",
    "print(\"Savings from releasing inmates 60 or older in 2022-2027 with conservative grant rate: \", fiveYearsConservativeCost)\n",
    "print(\"Number of inmates 60 or older to be released in 2022-2032 with conservative grant rate: \", tenYearsConservative[0])\n",
    "print(\"Savings from releasing inmates 60 or older in 2022-2032 with conservative grant rate: \", tenYearsConservativeCost)\n",
    "print('\\n')\n",
    "\n",
    "fiveYearsMedium = calcNumInmatesOfAgeInRange(2022, 2027, 60, semiconservativeGrantRate)\n",
    "tenYearsMedium = calcNumInmatesOfAgeInRange(2022, 2032, 60, semiconservativeGrantRate)\n",
    "fiveYearsMediumCost = calcCumulativeCost(fiveYearsMedium[1], fiveYearsMedium[2], 2022, 2027, costOfAnInmateOverSixty)\n",
    "tenYearsMediumCost = calcCumulativeCost(tenYearsMedium[1], tenYearsMedium[2], 2022, 2032, costOfAnInmateOverSixty)\n",
    "print(\"Number of inmates 60 or older to be released in 2022-2027 with semi-conservative grant rate: \", fiveYearsMedium[0])\n",
    "print(\"Savings from releasing inmates 60 or older in 2022-2027 with semi-conservative grant rate: \", fiveYearsMediumCost)\n",
    "print(\"Number of inmates 60 or older to be released in 2022-2032 with semi-conservative grant rate: \", tenYearsMedium[0])\n",
    "print(\"Savings from releasing inmates 60 or older in 2022-2032 with semi-conservative grant rate: \", tenYearsMediumCost)\n",
    "print('\\n')\n",
    "\n",
    "fiveYearsLiberal = calcNumInmatesOfAgeInRange(2022, 2027, 60, liberalGrantRate)\n",
    "tenYearsLiberal = calcNumInmatesOfAgeInRange(2022, 2032, 60, liberalGrantRate)\n",
    "fiveYearsLiberalCost = calcCumulativeCost(fiveYearsLiberal[1], fiveYearsLiberal[2], 2022, 2027, costOfAnInmateOverSixty)\n",
    "tenYearsLiberalCost = calcCumulativeCost(tenYearsLiberal[1], tenYearsLiberal[2], 2022, 2032, costOfAnInmateOverSixty)\n",
    "print(\"Number of inmates 60 or older to be released in 2022-2027 with liberal grant rate: \", fiveYearsLiberal[0])\n",
    "print(\"Savings from releasing inmates 60 or older in 2022-2027 with liberal grant rate: \", fiveYearsLiberalCost)\n",
    "print(\"Number of inmates 60 or older to be released in 2022-2032 with liberal grant rate: \", tenYearsLiberal[0])\n",
    "print(\"Savings from releasing inmates 60 or older in 2022-2032 with liberal grant rate: \", tenYearsLiberalCost)\n",
    "\n",
    "\n",
    "\n",
    "\n",
    "\n",
    "\n",
    "print('\\n')\n",
    "fiveYearsConservative50 = calcNumInmatesOfAgeInRange(2022, 2027, 50, conservativeGrantRate)\n",
    "tenYearsConservative50 = calcNumInmatesOfAgeInRange(2022, 2032, 50, conservativeGrantRate)\n",
    "fiveYearsConservativeCost50 = calcCumulativeCost(fiveYearsConservative50[1], fiveYearsConservative50[2], 2022, 2027, costOfAnInmateOverFifty)\n",
    "tenYearsConservativeCost50 = calcCumulativeCost(tenYearsConservative50[1], tenYearsConservative50[2], 2022, 2032, costOfAnInmateOverFifty)\n",
    "print(\"Number of inmates 50 or older to be released in 2022-2027 with conservative grant rate: \", fiveYearsConservative50[0])\n",
    "print(\"Savings from releasing inmates 50 or older in 2022-2027 with conservative grant rate: \", fiveYearsConservativeCost50)\n",
    "print(\"Number of inmates 50 or older to be released in 2022-2032 with conservative grant rate: \", tenYearsConservative50[0])\n",
    "print(\"Savings from releasing inmates 50 or older in 2022-2032 with conservative grant rate: \", tenYearsConservativeCost50)\n",
    "\n",
    "print('\\n')\n",
    "fiveYearsMedium50 = calcNumInmatesOfAgeInRange(2022, 2027, 50, semiconservativeGrantRate)\n",
    "tenYearsMedium50 = calcNumInmatesOfAgeInRange(2022, 2032, 50, semiconservativeGrantRate)\n",
    "fiveYearsMediumCost50 = calcCumulativeCost(fiveYearsMedium50[1], fiveYearsMedium50[2], 2022, 2027, costOfAnInmateOverFifty)\n",
    "tenYearsMediumCost50 = calcCumulativeCost(tenYearsMedium50[1], tenYearsMedium50[2], 2022, 2032, costOfAnInmateOverFifty)\n",
    "print(\"Number of inmates 50 or older to be released in 2022-2027 with semi-conservative grant rate: \", fiveYearsMedium50[0])\n",
    "print(\"Savings from releasing inmates 50 or older in 2022-2027 with semi-conservative grant rate: \", fiveYearsMediumCost50)\n",
    "print(\"Number of inmates 50 or older to be released in 2022-2032 with semi-conservative grant rate: \", tenYearsMedium50[0])\n",
    "print(\"Savings from releasing inmates 50 or older in 2022-2032 with semi-conservative grant rate: \", tenYearsMediumCost50)\n",
    "\n",
    "print('\\n')\n",
    "fiveYearsLiberal50 = calcNumInmatesOfAgeInRange(2022, 2027, 50, liberalGrantRate)\n",
    "tenYearsLiberal50 = calcNumInmatesOfAgeInRange(2022, 2032, 50, liberalGrantRate)\n",
    "fiveYearsLiberalCost50 = calcCumulativeCost(fiveYearsLiberal50[1], fiveYearsLiberal50[2], 2022, 2027, costOfAnInmateOverFifty)\n",
    "tenYearsLiberalCost50 = calcCumulativeCost(tenYearsLiberal50[1], tenYearsLiberal50[2], 2022, 2032, costOfAnInmateOverFifty)\n",
    "print(\"Number of inmates 50 or older to be released in 2022-2027 with liberal grant rate: \", fiveYearsLiberal50[0])\n",
    "print(\"Savings from releasing inmates 50 or older in 2022-2027 with liberal grant rate: \", fiveYearsLiberalCost50)\n",
    "print(\"Number of inmates 50 or older to be released in 2022-2032 with liberal grant rate: \", tenYearsLiberal50[0])\n",
    "print(\"Savings from releasing inmates 50 or older in 2022-2032 with liberal grant rate: \", tenYearsLiberalCost50)"
   ]
  },
  {
   "cell_type": "code",
   "execution_count": 425,
   "metadata": {},
   "outputs": [
    {
     "name": "stdout",
     "output_type": "stream",
     "text": [
      "[1096.0, 1055.0, 1909.088, 1709.165, 2299.9976639999995, 1945.4594949999998]\n",
      "[215.912, 207.835, 376.09033600000004, 336.705505, 453.0995398079999, 383.255520515]\n"
     ]
    },
    {
     "data": {
      "image/png": "[encoded data removed]",
      "text/plain": [
       "<Figure size 720x360 with 1 Axes>"
      ]
     },
     "metadata": {
      "needs_background": "light"
     },
     "output_type": "display_data"
    },
    {
     "name": "stdout",
     "output_type": "stream",
     "text": [
      "[1096.0, 1055.0, 1909.088, 1709.165, 2299.9976639999995, 1945.4594949999998, 2343.898124191999, 1896.2039744849997, 2252.150193726175, 1945.6517915114546, 2312.4766055621185]\n",
      "[215.912, 207.835, 376.09033600000004, 336.705505, 453.0995398079999, 383.255520515, 461.74793046582386, 373.552182973545, 443.6735881640565, 383.2934029277566, 455.55789129573736]\n"
     ]
    },
    {
     "data": {
      "image/png": "[encoded data removed]",
      "text/plain": [
       "<Figure size 720x360 with 1 Axes>"
      ]
     },
     "metadata": {
      "needs_background": "light"
     },
     "output_type": "display_data"
    },
    {
     "name": "stdout",
     "output_type": "stream",
     "text": [
      "[1096.0, 880.0, 1453.824, 1006.72, 1259.262656, 907.32768]\n",
      "[390.176, 313.28, 517.561344, 358.39232, 448.297505536, 323.00865408]\n"
     ]
    },
    {
     "data": {
      "image/png": "[encoded data removed]",
      "text/plain": [
       "<Figure size 720x360 with 1 Axes>"
      ]
     },
     "metadata": {
      "needs_background": "light"
     },
     "output_type": "display_data"
    },
    {
     "name": "stdout",
     "output_type": "stream",
     "text": [
      "[1096.0, 880.0, 1453.824, 1006.72, 1259.262656, 907.32768, 1117.965150464, 882.3190259200001, 1089.969556898816, 991.21345269248, 1236.9403946428376]\n",
      "[390.176, 313.28, 517.561344, 358.39232, 448.297505536, 323.00865408, 397.99559356518404, 314.10557322752, 388.0291622559785, 352.87198915852287, 440.35078049285016]\n"
     ]
    },
    {
     "data": {
      "image/png": "[encoded data removed]",
      "text/plain": [
       "<Figure size 720x360 with 1 Axes>"
      ]
     },
     "metadata": {
      "needs_background": "light"
     },
     "output_type": "display_data"
    },
    {
     "name": "stdout",
     "output_type": "stream",
     "text": [
      "[1096.0, 761.0, 1175.36, 659.135, 869.8175999999999, 611.637225]\n",
      "[509.64000000000004, 353.865, 546.5423999999999, 306.497775, 404.46518399999997, 284.411309625]\n"
     ]
    },
    {
     "data": {
      "image/png": "[encoded data removed]",
      "text/plain": [
       "<Figure size 720x360 with 1 Axes>"
      ]
     },
     "metadata": {
      "needs_background": "light"
     },
     "output_type": "display_data"
    },
    {
     "name": "stdout",
     "output_type": "stream",
     "text": [
      "[1096.0, 761.0, 1175.36, 659.135, 869.8175999999999, 611.637225, 772.3524159999998, 625.2259153749999, 791.2085425599998, 768.4958647256249, 964.2965702695999]\n",
      "[509.64000000000004, 353.865, 546.5423999999999, 306.497775, 404.46518399999997, 284.411309625, 359.14387343999994, 290.73005064937496, 367.91197229039994, 357.35057709741557, 448.397905175364]\n"
     ]
    },
    {
     "data": {
      "image/png": "[encoded data removed]",
      "text/plain": [
       "<Figure size 720x360 with 1 Axes>"
      ]
     },
     "metadata": {
      "needs_background": "light"
     },
     "output_type": "display_data"
    }
   ],
   "source": [
    "#Plot number of inmates released per year\n",
    "for yearlyNumReleased in [fiveYearsConservative, tenYearsConservative, fiveYearsMedium,\n",
    "                          tenYearsMedium, fiveYearsLiberal, tenYearsLiberal]:\n",
    "    print(yearlyNumReleased[1])\n",
    "    plot = plt.figure(figsize=(10,5))\n",
    "    ax = plot.add_subplot(1,1,1)\n",
    "    print([(x * yearlyNumReleased[2]) for x in yearlyNumReleased[1]])\n",
    "    rects = plt.bar(range(2022, 2022 + len(yearlyNumReleased[1])), [(x * yearlyNumReleased[2]) for x in yearlyNumReleased[1]])\n",
    "    plt.title(\"Number of Inmates Released per Year from 2022 - \" + str(2021 + len(yearlyNumReleased[1]))+\n",
    "              \" With a Grant Rate of \" + str(yearlyNumReleased[2] * 100) + \"%\")\n",
    "    plt.xlabel(\"Year\")\n",
    "    plt.ylabel(\"Number of Inmates Released\")\n",
    "    autolabel(rects, ax)\n",
    "    plt.show()"
   ]
  },
  {
   "cell_type": "markdown",
   "metadata": {},
   "source": [
    "### How Calculations were Made\n",
    "- For the time ranges, 2022-2027 and 2022 - 2032, I pulled out inmates who were over the age of 60 by December 31st per year in the time range, and who had served 20 years, or more of their sentence by December 31st of the same year. The size of this subset of inmates times the grant rates of 19.7%, 35.6%, and 46.5% is the value for the number of inmates over the age of 60, who qualify for EDR in a given year. The sum of this subset per year is the final value.\n",
    "\n",
    "- The cost per incarcerated person 60 or older per year is \\\\$68,270. To calculate the total savings, the number of inmates 60 or older who will be released in 2022-2027 or 2022 - 2032, for the following grant rates: 19.7%, 35.6%, or 46.5%, was multiplied by \\\\$68,270."
   ]
  },
  {
   "cell_type": "code",
   "execution_count": null,
   "metadata": {},
   "outputs": [],
   "source": []
  },
  {
   "cell_type": "markdown",
   "metadata": {},
   "source": [
    "# James' work below this cell, Neel's above"
   ]
  },
  {
   "cell_type": "markdown",
   "metadata": {},
   "source": [
    "## Number of aditional EDR hearings from 2023-2043"
   ]
  },
  {
   "cell_type": "code",
   "execution_count": 426,
   "metadata": {
    "scrolled": true
   },
   "outputs": [
    {
     "name": "stdout",
     "output_type": "stream",
     "text": [
      "[3613.0, 443.0, 528.0, 512.0, 538.0, 535.0, 617.0, 653.0, 789.0, 850.0, 1017.0, 1335.0, 1326.0, 1634.0, 2280.0, 3899.0, 8175.0, 3304.0, 0.0, 0.0]\n",
      "Number of additional EDR hearings that would occur from 2023-2043: 32048\n"
     ]
    },
    {
     "data": {
      "image/png": "[encoded data removed]",
      "text/plain": [
       "<Figure size 720x360 with 1 Axes>"
      ]
     },
     "metadata": {
      "needs_background": "light"
     },
     "output_type": "display_data"
    }
   ],
   "source": [
    "result = calcNumInmatesOfAgeInRange(2023, 2042, 0, 1)[1]\n",
    "print(result)\n",
    "total = calcNumInmatesOfAgeInRange(2023, 2042, 0, 1)[0]\n",
    "for q in range(len(result)):\n",
    "    if result[q] > 6000:\n",
    "        result[q] = 6000\n",
    "print(\"Number of additional EDR hearings that would occur from 2023-2043:\",total)\n",
    "plot = plt.figure(figsize=(10,5))\n",
    "ax = plot.add_subplot(1,1,1)\n",
    "rects = plt.bar(range(2023,2043),result,align = 'edge')\n",
    "plt.title(\"Number of additional EDR hearings\")\n",
    "plt.xlabel(\"Year\")\n",
    "plt.xticks(range(2023,2043,2))\n",
    "plt.ylabel(\"Additional EDR hearings\")\n",
    "autolabel(rects, ax)\n",
    "plt.show()"
   ]
  },
  {
   "cell_type": "markdown",
   "metadata": {},
   "source": [
    "### How calculations were made\n",
    "\n",
    "- This was calculated using Neel's function calcNumInmatesOfAgeInRange. Inputs were 2023,2042, age of zero to capture all inmates, and a grant rate of 1 (this is inconsequential). The exact EDR hearings was returned by the second returned variable 'numEDRHearings'. The number of EDR hearings were capped at the 6000 EDR hearings per year limit."
   ]
  },
  {
   "cell_type": "markdown",
   "metadata": {},
   "source": [
    "## Number of inmates over 50 released in 2022, 2022-2027, 2022-2032, based on liberal, moderate, and conservative grant rates; savings for each"
   ]
  },
  {
   "cell_type": "code",
   "execution_count": null,
   "metadata": {},
   "outputs": [
    {
     "name": "stdout",
     "output_type": "stream",
     "text": [
      "\u001b[1m2022 data\u001b[0m\n",
      "Number of inmates over 50 to be released in 2022 with liberal EDR rates: 422\n",
      "\t Amount saved per year where they would otherwise be incarcerated: $ 26877180\n",
      "Number of inmates over 50 to be released in 2022 with moderate EDR rates: 762\n",
      "\t Amount saved per year where they would otherwise be incarcerated: $ 48531780\n",
      "Number of inmates over 50 to be released in 2022 with conservative EDR rates: 996\n",
      "\t Amount saved per year where they would otherwise be incarcerated: $ 63435240\n",
      "\n",
      "\u001b[1m2022-2027 data\u001b[0m\n",
      "Number of inmates over 50 to be released from 2022 - 2027 with liberal EDR rates: 3747\n",
      "\t Amount saved per year where they would otherwise be incarcerated: $ 238646430\n",
      "Number of inmates over 50 to be released in 2022 - 2027 with moderate EDR rates: 4459\n",
      "\t Amount saved per year where they would otherwise be incarcerated: $ 283993710\n",
      "Number of inmates over 50 to be released in 2022 - 2027 with conservative EDR rates: 4550\n",
      "\t Amount saved per year where they would otherwise be incarcerated: $ 289789500\n",
      "\n"
     ]
    }
   ],
   "source": [
    "fiftiesLib22 = calcNumInmatesOfAgeInRange(2022, 2022, 50, 0.197)\n",
    "fiftiesMed22 = calcNumInmatesOfAgeInRange(2022, 2022, 50, 0.356)\n",
    "fiftiesCons22 = calcNumInmatesOfAgeInRange(2022, 2022, 50, 0.465)\n",
    "print('\\033[1m'+\"2022 data\"+'\\033[0m')\n",
    "print(\"Number of inmates over 50 to be released in 2022 with liberal EDR rates:\", fiftiesLib22[0])\n",
    "print('\\t' * 1,\"Amount saved per year where they would otherwise be incarcerated: $\" ,(fiftiesLib22[0]*costOfAnInmateOverFifty) - (fiftiesLib22[0]*costOfPersonOnParole))\n",
    "print(\"Number of inmates over 50 to be released in 2022 with moderate EDR rates:\", fiftiesMed22[0])\n",
    "print('\\t' * 1,\"Amount saved per year where they would otherwise be incarcerated: $\" ,(fiftiesMed22[0]*costOfAnInmateOverFifty) - (fiftiesMed22[0]*costOfPersonOnParole))\n",
    "print(\"Number of inmates over 50 to be released in 2022 with conservative EDR rates:\", fiftiesCons22[0])\n",
    "print('\\t' * 1,\"Amount saved per year where they would otherwise be incarcerated: $\", (fiftiesCons22[0]*costOfAnInmateOverFifty) - (fiftiesCons22[0]*costOfPersonOnParole))\n",
    "print()\n",
    "fiftiesLib27 = calcNumInmatesOfAgeInRange(2022, 2027, 50, 0.197)\n",
    "fiftiesMed27 = calcNumInmatesOfAgeInRange(2022, 2027, 50, 0.356)\n",
    "fiftiesCons27 = calcNumInmatesOfAgeInRange(2022, 2027, 50, 0.465)\n",
    "print('\\033[1m'+\"2022-2027 data\"+'\\033[0m')\n",
    "print(\"Number of inmates over 50 to be released from 2022 - 2027 with liberal EDR rates:\", fiftiesLib27[0])\n",
    "print('\\t' * 1,\"Amount saved per year where they would otherwise be incarcerated: $\" ,(fiftiesLib27[0]*costOfAnInmateOverFifty) - (fiftiesLib27[0]*costOfPersonOnParole))\n",
    "print(\"Number of inmates over 50 to be released in 2022 - 2027 with moderate EDR rates:\", fiftiesMed27[0])\n",
    "print('\\t' * 1,\"Amount saved per year where they would otherwise be incarcerated: $\" ,(fiftiesMed27[0]*costOfAnInmateOverFifty) - (fiftiesMed27[0]*costOfPersonOnParole))\n",
    "print(\"Number of inmates over 50 to be released in 2022 - 2027 with conservative EDR rates:\", fiftiesCons27[0])\n",
    "print('\\t' * 1,\"Amount saved per year where they would otherwise be incarcerated: $\", (fiftiesCons27[0]*costOfAnInmateOverFifty) - (fiftiesCons27[0]*costOfPersonOnParole))\n",
    "print()\n",
    "fiftiesLib32 = calcNumInmatesOfAgeInRange(2022, 2032, 50, 0.197)\n",
    "fiftiesMed32 = calcNumInmatesOfAgeInRange(2022, 2032, 50, 0.356)\n",
    "fiftiesCons32 = calcNumInmatesOfAgeInRange(2022, 2032, 50, 0.465)\n",
    "print('\\033[1m'+\"2022-2032 data\"+'\\033[0m')\n",
    "print(\"Number of inmates over 50 to be released in 2022 - 2037 with liberal EDR rates:\", fiftiesLib32[0])\n",
    "print('\\t' * 1,\"Amount saved per year where they would otherwise be incarcerated: $\" ,(fiftiesLib32[0]*costOfAnInmateOverFifty) - (fiftiesLib32[0]*costOfPersonOnParole))\n",
    "print(\"Number of inmates over 50 to be released in 2022 - 2037 with moderate EDR rates:\", fiftiesMed32[0])\n",
    "print('\\t' * 1,\"Amount saved per year where they would otherwise be incarcerated: $\" ,(fiftiesMed32[0]*costOfAnInmateOverFifty) - (fiftiesMed32[0]*costOfPersonOnParole))\n",
    "print(\"Number of inmates over 50 to be released in 2022 - 2037 with conservative EDR rates:\", fiftiesCons32[0])\n",
    "print('\\t' * 1,\"Amount saved per year where they would otherwise be incarcerated: $\", (fiftiesCons32[0]*costOfAnInmateOverFifty) - (fiftiesCons32[0]*costOfPersonOnParole))\n",
    "print()"
   ]
  },
  {
   "cell_type": "markdown",
   "metadata": {},
   "source": [
    "### How calculations were made\n",
    "- These calculations were found by using Neel's calcNumInmatesOfAgeInRange function with inputs of 2022, 2022-2027, and 2022-2032. Each time frame was broken down into the three different grant rates. The savings were calculated by multiplying the ammount of people released in the period of time multiplied by the per year the cost of incarcerating an inmate over 60 minus the people released multiplied by the per year cost of someone on parole"
   ]
  },
  {
   "cell_type": "markdown",
   "metadata": {},
   "source": [
    "## Racial Analysis"
   ]
  },
  {
   "cell_type": "code",
   "execution_count": null,
   "metadata": {},
   "outputs": [],
   "source": [
    "def calcNumInmatesOfRaceInRange(startYear, endYear, race, grantRate):\n",
    "    numInmatesDenied = [0,0]\n",
    "    numEDRHearings = []\n",
    "    dfCopy = df.copy()\n",
    "    \n",
    "    for year in range(startYear, endYear + 1):\n",
    "        \n",
    "        dfRace = dfCopy.loc[(dfCopy[\"Race\"] == race)]\n",
    "        twentyYearsServedDate = pd.to_datetime(str(year - 20) + \"-12-31\")\n",
    "        servedTwentyYears = dfRace.loc[dfCopy[\"Custody Date\"] <= twentyYearsServedDate]\n",
    "        numRaceReleased = len(servedTwentyYears)\n",
    "        \n",
    "        \n",
    "        #Start accounting for inmates reapplying for parole 2 years after startYear\n",
    "        if(year == startYear): #Initialize array with denied inmates for first 2 years\n",
    "            numInmatesDenied[0] = numRaceReleased * (1 - grantRate)\n",
    "            numEDRHearings.append(numRaceReleased)\n",
    "            dfCopy = dfCopy[~(dfCopy[\"IDOC #\"].isin(servedTwentyYears[\"IDOC #\"].head(int(numRaceReleased * grantRate))))] #Drop inmates who will be released\n",
    "        elif(year == startYear + 1):\n",
    "            numInmatesDenied[1] = numRaceReleased * (1 - grantRate)\n",
    "            numEDRHearings.append(numRaceReleased)\n",
    "            dfCopy = dfCopy[~(dfCopy[\"IDOC #\"].isin(servedTwentyYears[\"IDOC #\"].head(int(numRaceReleased * grantRate))))] #Drop inmates who will be released\n",
    "        elif(year >= startYear + 2):\n",
    "            twoYearsBack = numInmatesDenied[0]\n",
    "            numEDRHearings.append(numRaceReleased + numInmatesDenied[0])\n",
    "            numInmatesDenied[0] = numInmatesDenied[1]\n",
    "            numInmatesDenied[1] = (numRaceReleased + twoYearsBack) * (1 - grantRate)\n",
    "            dfCopy = dfCopy[~(dfCopy[\"IDOC #\"].isin(servedTwentyYears[\"IDOC #\"].head(int(numRaceReleased * grantRate))))] #Drop inmates who will be released\n",
    "            \n",
    "    return (int(sum(numEDRHearings) * grantRate), numEDRHearings, grantRate) #Cast to int truncates"
   ]
  },
  {
   "cell_type": "code",
   "execution_count": null,
   "metadata": {},
   "outputs": [],
   "source": [
    "print(\"Current racial breakdown of prison population:\")\n",
    "labels = ['Black','White','Hispanic','Asian','Bi-Racial','American Indian','Unknown']\n",
    "sizes = 100*df['Race'].value_counts(normalize=True) \n",
    "plt.pie(df['Race'].value_counts())\n",
    "plt.legend(labels=['%s, %1.1f %%' % (l, s) for l, s in zip(labels, sizes)],loc='upper left',bbox_to_anchor=(-0.7, 1.))\n",
    "plt.show()\n",
    "#print(df['Race'].value_counts())\n",
    "#print(df['Race'].value_counts()[0])\n",
    "#print(calcNumInmatesOfRaceInRange(2022, 2032, 'Black', conservativeGrantRate)[0])\n",
    "def plotPrisonRaces(startyear, endyear,gr):\n",
    "    release = []\n",
    "    print(\"Racial Breakdown prison population by\",endyear,\" with a grant rate of\", gr ,\":\")\n",
    "    release.append(df['Race'].value_counts()[0] - calcNumInmatesOfRaceInRange(startyear, endyear, 'Black', gr)[0])\n",
    "    release.append(df['Race'].value_counts()[1] - calcNumInmatesOfRaceInRange(startyear, endyear, 'White', gr)[0])\n",
    "    release.append(df['Race'].value_counts()[2] - calcNumInmatesOfRaceInRange(startyear, endyear, 'Hispanic', gr)[0])\n",
    "    release.append(df['Race'].value_counts()[3] - calcNumInmatesOfRaceInRange(startyear, endyear, 'Asian', gr)[0])\n",
    "    release.append(df['Race'].value_counts()[4] - calcNumInmatesOfRaceInRange(startyear, endyear, 'Bi-Racial', gr)[0])\n",
    "    release.append(df['Race'].value_counts()[5] - calcNumInmatesOfRaceInRange(startyear, endyear, 'American Indian', gr)[0])\n",
    "    release.append(df['Race'].value_counts()[6] - calcNumInmatesOfRaceInRange(startyear, endyear, 'Unknown', gr)[0])\n",
    "    values = []\n",
    "    for i in release:\n",
    "        values.append((i/sum(release))*100)\n",
    "    sizes = values\n",
    "    plt.pie(values)\n",
    "    plt.legend(labels=['%s, %1.1f %%' % (l, s) for l, s in zip(labels, sizes)],loc='upper left',bbox_to_anchor=(-0.7, 1.))\n",
    "    plt.show()\n",
    "\n",
    "def plotReleaseRaces(startyear, endyear):\n",
    "    release = []\n",
    "    print(\"Racial Breakdown of those released in\",startyear,\"-\",endyear,\":\")\n",
    "    release.append(calcNumInmatesOfRaceInRange(startyear, endyear, 'Black', 1)[0])\n",
    "    release.append(calcNumInmatesOfRaceInRange(startyear, endyear, 'White', 1)[0])\n",
    "    release.append(calcNumInmatesOfRaceInRange(startyear, endyear, 'Hispanic', 1)[0])\n",
    "    release.append(calcNumInmatesOfRaceInRange(startyear, endyear, 'Asian', 1)[0])\n",
    "    release.append(calcNumInmatesOfRaceInRange(startyear, endyear, 'Bi-Racial', 1)[0])\n",
    "    release.append(calcNumInmatesOfRaceInRange(startyear, endyear, 'American Indian', 1)[0])\n",
    "    release.append(calcNumInmatesOfRaceInRange(startyear, endyear, 'Unknown', 1)[0])\n",
    "    values = []\n",
    "    for i in release:\n",
    "        values.append((i/sum(release))*100)\n",
    "    sizes = values\n",
    "    plt.pie(values)\n",
    "    plt.legend(labels=['%s, %1.1f %%' % (l, s) for l, s in zip(labels, sizes)],loc='upper left',bbox_to_anchor=(-0.7, 1.))\n",
    "    plt.show()\n",
    "\n",
    "plotReleaseRaces(2022, 2022)\n",
    "plotPrisonRaces(2022, 2022,liberalGrantRate)\n",
    "plotPrisonRaces(2022, 2022,semiconservativeGrantRate)\n",
    "plotPrisonRaces(2022, 2022,conservativeGrantRate)\n",
    "plotReleaseRaces(2022, 2027)\n",
    "plotPrisonRaces(2022, 2027,liberalGrantRate)\n",
    "plotPrisonRaces(2022, 2027,semiconservativeGrantRate)\n",
    "plotPrisonRaces(2022, 2027,conservativeGrantRate)\n",
    "plotReleaseRaces(2022, 2032)\n",
    "plotPrisonRaces(2022, 2032,liberalGrantRate)\n",
    "plotPrisonRaces(2022, 2032,semiconservativeGrantRate)\n",
    "plotPrisonRaces(2022, 2032,conservativeGrantRate)"
   ]
  },
  {
   "cell_type": "markdown",
   "metadata": {},
   "source": [
    "### How the calculations were made\n",
    "- Racial analysis was done by retrofitting Neel's calcNumInmatesOfAgeInRange function for race instead of age. The potential prison populations are the result of subtracting each race's prison population by the number calculated from the aformentioned function. Prison release breakdowns by race are the result of the same calculation, just without subtracting it from the original prison populations."
   ]
  }
 ],
 "metadata": {
  "kernelspec": {
   "display_name": "Python 3",
   "language": "python",
   "name": "python3"
  },
  "language_info": {
   "codemirror_mode": {
    "name": "ipython",
    "version": 3
   },
   "file_extension": ".py",
   "mimetype": "text/x-python",
   "name": "python",
   "nbconvert_exporter": "python",
   "pygments_lexer": "ipython3",
   "version": "3.7.4"
  }
 },
 "nbformat": 4,
 "nbformat_minor": 4
}
