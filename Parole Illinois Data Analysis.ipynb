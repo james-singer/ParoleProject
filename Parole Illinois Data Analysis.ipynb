{
 "cells": [
  {
   "cell_type": "code",
   "execution_count": 18,
   "metadata": {},
   "outputs": [],
   "source": [
    "import pandas as pd\n",
    "from pandas.tseries.offsets import MonthEnd\n",
    "import matplotlib.pyplot as plt"
   ]
  },
  {
   "cell_type": "code",
   "execution_count": 19,
   "metadata": {},
   "outputs": [],
   "source": [
    "# Read in data\n",
    "df = pd.read_excel(\"Cleaned June 2020 Prison Stock Pop.xls\")"
   ]
  },
  {
   "cell_type": "code",
   "execution_count": 20,
   "metadata": {},
   "outputs": [],
   "source": [
    "# Clean data\n",
    "df[\"Custody Date\"] = pd.to_datetime(df[\"Custody Date\"], format=\"%Y-%m-%d\") #Custody Date is the start of an inmate's sentence\n",
    "df[\"Date of Birth\"] = pd.to_datetime(df[\"Date of Birth\"], format=\"%Y-%m-%d\")"
   ]
  },
  {
   "cell_type": "code",
   "execution_count": 21,
   "metadata": {},
   "outputs": [
    {
     "data": {
      "text/html": [
       "<div>\n",
       "<style scoped>\n",
       "    .dataframe tbody tr th:only-of-type {\n",
       "        vertical-align: middle;\n",
       "    }\n",
       "\n",
       "    .dataframe tbody tr th {\n",
       "        vertical-align: top;\n",
       "    }\n",
       "\n",
       "    .dataframe thead th {\n",
       "        text-align: right;\n",
       "    }\n",
       "</style>\n",
       "<table border=\"1\" class=\"dataframe\">\n",
       "  <thead>\n",
       "    <tr style=\"text-align: right;\">\n",
       "      <th></th>\n",
       "      <th>IDOC #</th>\n",
       "      <th>Name</th>\n",
       "      <th>Date of Birth</th>\n",
       "      <th>Sex</th>\n",
       "      <th>Race</th>\n",
       "      <th>Veteran Status</th>\n",
       "      <th>Current Admission Date</th>\n",
       "      <th>Admission Type</th>\n",
       "      <th>Parent Institution</th>\n",
       "      <th>Projected Mandatory Supervised Release (MSR) Date</th>\n",
       "      <th>Projected Discharge Date</th>\n",
       "      <th>Custody Date</th>\n",
       "      <th>Sentence Date</th>\n",
       "      <th>Crime Class</th>\n",
       "      <th>Holding Offense</th>\n",
       "      <th>Sentence Years</th>\n",
       "      <th>Sentence Months</th>\n",
       "      <th>Truth in Sentencing</th>\n",
       "      <th>Sentencing County</th>\n",
       "    </tr>\n",
       "  </thead>\n",
       "  <tbody>\n",
       "    <tr>\n",
       "      <td>0</td>\n",
       "      <td>A00147</td>\n",
       "      <td>MCCUTCHEON, JOHN</td>\n",
       "      <td>1949-06-14</td>\n",
       "      <td>Male</td>\n",
       "      <td>White</td>\n",
       "      <td>Yes</td>\n",
       "      <td>1983-02-16</td>\n",
       "      <td>Discharged &amp; recommitted</td>\n",
       "      <td>Dixon</td>\n",
       "      <td>2033-10-06 00:00:00</td>\n",
       "      <td>2036-10-06 00:00:00</td>\n",
       "      <td>1982-11-26</td>\n",
       "      <td>1983-02-15</td>\n",
       "      <td>Class X</td>\n",
       "      <td>ATTEMPT MURDER/INTENT TO KILL/INJURE</td>\n",
       "      <td>0050</td>\n",
       "      <td>00</td>\n",
       "      <td>Day-for-Day</td>\n",
       "      <td>Jasper</td>\n",
       "    </tr>\n",
       "    <tr>\n",
       "      <td>1</td>\n",
       "      <td>A01054</td>\n",
       "      <td>TIPTON, DARNELL</td>\n",
       "      <td>1954-03-25</td>\n",
       "      <td>Male</td>\n",
       "      <td>Black</td>\n",
       "      <td>No</td>\n",
       "      <td>1988-12-23</td>\n",
       "      <td>Parole violator, New sentence</td>\n",
       "      <td>Western Illinois</td>\n",
       "      <td>2065-08-14 00:00:00</td>\n",
       "      <td>2068-08-14 00:00:00</td>\n",
       "      <td>1986-09-29</td>\n",
       "      <td>1987-08-07</td>\n",
       "      <td>Class X</td>\n",
       "      <td>AGG CRIM SEX ASSAULT/WEAPON</td>\n",
       "      <td>0060</td>\n",
       "      <td>00</td>\n",
       "      <td>Day-for-Day</td>\n",
       "      <td>Cook</td>\n",
       "    </tr>\n",
       "    <tr>\n",
       "      <td>2</td>\n",
       "      <td>A01072</td>\n",
       "      <td>BRISBON, HENRY</td>\n",
       "      <td>1956-01-12</td>\n",
       "      <td>Male</td>\n",
       "      <td>Black</td>\n",
       "      <td>No</td>\n",
       "      <td>1974-02-22</td>\n",
       "      <td>Direct from court</td>\n",
       "      <td>Pontiac</td>\n",
       "      <td>NaN</td>\n",
       "      <td>NaN</td>\n",
       "      <td>1982-02-24</td>\n",
       "      <td>1982-02-24</td>\n",
       "      <td>Murder</td>\n",
       "      <td>MURDER/INTENT TO KILL/INJURE</td>\n",
       "      <td>LIFE</td>\n",
       "      <td></td>\n",
       "      <td>Day-for-Day</td>\n",
       "      <td>Will</td>\n",
       "    </tr>\n",
       "    <tr>\n",
       "      <td>3</td>\n",
       "      <td>A01077</td>\n",
       "      <td>JONES, ROBERT</td>\n",
       "      <td>1953-04-03</td>\n",
       "      <td>Male</td>\n",
       "      <td>Black</td>\n",
       "      <td>No</td>\n",
       "      <td>1983-09-16</td>\n",
       "      <td>MSR violator, New sentence</td>\n",
       "      <td>Pinckneyville</td>\n",
       "      <td>NaN</td>\n",
       "      <td>NaN</td>\n",
       "      <td>1982-04-13</td>\n",
       "      <td>1983-09-15</td>\n",
       "      <td>Murder</td>\n",
       "      <td>MURDER/INTENT TO KILL/INJURE</td>\n",
       "      <td>LIFE</td>\n",
       "      <td></td>\n",
       "      <td>Day-for-Day</td>\n",
       "      <td>Cook</td>\n",
       "    </tr>\n",
       "    <tr>\n",
       "      <td>4</td>\n",
       "      <td>A01148</td>\n",
       "      <td>BROWN, RONALD</td>\n",
       "      <td>1955-02-02</td>\n",
       "      <td>Male</td>\n",
       "      <td>Black</td>\n",
       "      <td>No</td>\n",
       "      <td>2005-12-13</td>\n",
       "      <td>Discharged &amp; recommitted</td>\n",
       "      <td>Western Illinois</td>\n",
       "      <td>NaN</td>\n",
       "      <td>NaN</td>\n",
       "      <td>1998-10-03</td>\n",
       "      <td>2005-12-09</td>\n",
       "      <td>Murder</td>\n",
       "      <td>MURDER/INTENT TO KILL/INJURE</td>\n",
       "      <td>LIFE</td>\n",
       "      <td></td>\n",
       "      <td>Day-for-Day</td>\n",
       "      <td>Cook</td>\n",
       "    </tr>\n",
       "    <tr>\n",
       "      <td>...</td>\n",
       "      <td>...</td>\n",
       "      <td>...</td>\n",
       "      <td>...</td>\n",
       "      <td>...</td>\n",
       "      <td>...</td>\n",
       "      <td>...</td>\n",
       "      <td>...</td>\n",
       "      <td>...</td>\n",
       "      <td>...</td>\n",
       "      <td>...</td>\n",
       "      <td>...</td>\n",
       "      <td>...</td>\n",
       "      <td>...</td>\n",
       "      <td>...</td>\n",
       "      <td>...</td>\n",
       "      <td>...</td>\n",
       "      <td>...</td>\n",
       "      <td>...</td>\n",
       "      <td>...</td>\n",
       "    </tr>\n",
       "    <tr>\n",
       "      <td>32043</td>\n",
       "      <td>Y42081</td>\n",
       "      <td>LEISGANG, ANDREA S.</td>\n",
       "      <td>1982-03-01</td>\n",
       "      <td>Female</td>\n",
       "      <td>White</td>\n",
       "      <td>Unknown</td>\n",
       "      <td>2020-03-26</td>\n",
       "      <td>Direct from court</td>\n",
       "      <td>Logan</td>\n",
       "      <td>2082-08-20 00:00:00</td>\n",
       "      <td>NaN</td>\n",
       "      <td>2018-11-20</td>\n",
       "      <td>2020-03-20</td>\n",
       "      <td>Class X</td>\n",
       "      <td>PRED CRIM SEX ASSLAUT/VICTIM &lt;13</td>\n",
       "      <td>0060</td>\n",
       "      <td>00</td>\n",
       "      <td>85%</td>\n",
       "      <td>Madison</td>\n",
       "    </tr>\n",
       "    <tr>\n",
       "      <td>32044</td>\n",
       "      <td>Y42082</td>\n",
       "      <td>KECK, BRANDY J.</td>\n",
       "      <td>1978-07-23</td>\n",
       "      <td>Female</td>\n",
       "      <td>White</td>\n",
       "      <td>Unknown</td>\n",
       "      <td>2020-03-26</td>\n",
       "      <td>Direct from court</td>\n",
       "      <td>Logan</td>\n",
       "      <td>2020-07-24 00:00:00</td>\n",
       "      <td>2021-07-24 00:00:00</td>\n",
       "      <td>2020-01-24</td>\n",
       "      <td>2020-03-23</td>\n",
       "      <td>Class 4</td>\n",
       "      <td>POSS AMT CON SUB EXCEPT(A)/(D)</td>\n",
       "      <td>0001</td>\n",
       "      <td>00</td>\n",
       "      <td>Day-for-Day</td>\n",
       "      <td>Madison</td>\n",
       "    </tr>\n",
       "    <tr>\n",
       "      <td>32045</td>\n",
       "      <td>Y42083</td>\n",
       "      <td>NELLIGAN, JOHN J.</td>\n",
       "      <td>1988-08-31</td>\n",
       "      <td>Male</td>\n",
       "      <td>White</td>\n",
       "      <td>Unknown</td>\n",
       "      <td>2020-03-26</td>\n",
       "      <td>Direct from court</td>\n",
       "      <td>Graham</td>\n",
       "      <td>2021-02-20 00:00:00</td>\n",
       "      <td>2022-02-20 00:00:00</td>\n",
       "      <td>2020-02-20</td>\n",
       "      <td>2020-03-19</td>\n",
       "      <td>Class 4</td>\n",
       "      <td>POSS AMT CON SUB EXCEPT(A)/(D)</td>\n",
       "      <td>0003</td>\n",
       "      <td>00</td>\n",
       "      <td>Day-for-Day</td>\n",
       "      <td>Jefferson</td>\n",
       "    </tr>\n",
       "    <tr>\n",
       "      <td>32046</td>\n",
       "      <td>Y42173</td>\n",
       "      <td>GONZALEZ, RENE</td>\n",
       "      <td>1973-06-13</td>\n",
       "      <td>Male</td>\n",
       "      <td>Hispanic</td>\n",
       "      <td>Unknown</td>\n",
       "      <td>2020-06-18</td>\n",
       "      <td>Technical MSR violator</td>\n",
       "      <td>Stateville</td>\n",
       "      <td>2020-05-11 00:00:00</td>\n",
       "      <td>2022-05-11 00:00:00</td>\n",
       "      <td>2018-09-10</td>\n",
       "      <td>2020-04-22</td>\n",
       "      <td>Class 2</td>\n",
       "      <td>AGG CRIM SEX ABUSE/VICTIM &lt;13</td>\n",
       "      <td>0003</td>\n",
       "      <td>00</td>\n",
       "      <td>Day-for-Day</td>\n",
       "      <td>Cook</td>\n",
       "    </tr>\n",
       "    <tr>\n",
       "      <td>32047</td>\n",
       "      <td>Y42392</td>\n",
       "      <td>URDIALES, JESSE</td>\n",
       "      <td>1999-06-28</td>\n",
       "      <td>Male</td>\n",
       "      <td>Hispanic</td>\n",
       "      <td>No</td>\n",
       "      <td>2020-06-26</td>\n",
       "      <td>Transferred from juvenile</td>\n",
       "      <td>Menard</td>\n",
       "      <td>2028-08-23 00:00:00</td>\n",
       "      <td>NaN</td>\n",
       "      <td>2015-11-23</td>\n",
       "      <td>2017-02-09</td>\n",
       "      <td>Class X</td>\n",
       "      <td>AGG CRIM SEX ASSAULT/VICTIM &lt;9</td>\n",
       "      <td>0015</td>\n",
       "      <td>00</td>\n",
       "      <td>85%</td>\n",
       "      <td>Cook</td>\n",
       "    </tr>\n",
       "  </tbody>\n",
       "</table>\n",
       "<p>32048 rows × 19 columns</p>\n",
       "</div>"
      ],
      "text/plain": [
       "       IDOC #                 Name Date of Birth     Sex      Race  \\\n",
       "0      A00147     MCCUTCHEON, JOHN    1949-06-14    Male     White   \n",
       "1      A01054      TIPTON, DARNELL    1954-03-25    Male     Black   \n",
       "2      A01072       BRISBON, HENRY    1956-01-12    Male     Black   \n",
       "3      A01077        JONES, ROBERT    1953-04-03    Male     Black   \n",
       "4      A01148        BROWN, RONALD    1955-02-02    Male     Black   \n",
       "...       ...                  ...           ...     ...       ...   \n",
       "32043  Y42081  LEISGANG, ANDREA S.    1982-03-01  Female     White   \n",
       "32044  Y42082      KECK, BRANDY J.    1978-07-23  Female     White   \n",
       "32045  Y42083    NELLIGAN, JOHN J.    1988-08-31    Male     White   \n",
       "32046  Y42173       GONZALEZ, RENE    1973-06-13    Male  Hispanic   \n",
       "32047  Y42392      URDIALES, JESSE    1999-06-28    Male  Hispanic   \n",
       "\n",
       "      Veteran Status Current Admission Date                 Admission Type  \\\n",
       "0                Yes             1983-02-16       Discharged & recommitted   \n",
       "1                 No             1988-12-23  Parole violator, New sentence   \n",
       "2                 No             1974-02-22              Direct from court   \n",
       "3                 No             1983-09-16     MSR violator, New sentence   \n",
       "4                 No             2005-12-13       Discharged & recommitted   \n",
       "...              ...                    ...                            ...   \n",
       "32043        Unknown             2020-03-26              Direct from court   \n",
       "32044        Unknown             2020-03-26              Direct from court   \n",
       "32045        Unknown             2020-03-26              Direct from court   \n",
       "32046        Unknown             2020-06-18         Technical MSR violator   \n",
       "32047             No             2020-06-26      Transferred from juvenile   \n",
       "\n",
       "      Parent Institution Projected Mandatory Supervised Release (MSR) Date  \\\n",
       "0                  Dixon                               2033-10-06 00:00:00   \n",
       "1       Western Illinois                               2065-08-14 00:00:00   \n",
       "2                Pontiac                                               NaN   \n",
       "3          Pinckneyville                                               NaN   \n",
       "4       Western Illinois                                               NaN   \n",
       "...                  ...                                               ...   \n",
       "32043              Logan                               2082-08-20 00:00:00   \n",
       "32044              Logan                               2020-07-24 00:00:00   \n",
       "32045             Graham                               2021-02-20 00:00:00   \n",
       "32046         Stateville                               2020-05-11 00:00:00   \n",
       "32047             Menard                               2028-08-23 00:00:00   \n",
       "\n",
       "      Projected Discharge Date Custody Date Sentence Date Crime Class  \\\n",
       "0          2036-10-06 00:00:00   1982-11-26    1983-02-15     Class X   \n",
       "1          2068-08-14 00:00:00   1986-09-29    1987-08-07     Class X   \n",
       "2                          NaN   1982-02-24    1982-02-24      Murder   \n",
       "3                          NaN   1982-04-13    1983-09-15      Murder   \n",
       "4                          NaN   1998-10-03    2005-12-09      Murder   \n",
       "...                        ...          ...           ...         ...   \n",
       "32043                      NaN   2018-11-20    2020-03-20     Class X   \n",
       "32044      2021-07-24 00:00:00   2020-01-24    2020-03-23     Class 4   \n",
       "32045      2022-02-20 00:00:00   2020-02-20    2020-03-19     Class 4   \n",
       "32046      2022-05-11 00:00:00   2018-09-10    2020-04-22     Class 2   \n",
       "32047                      NaN   2015-11-23    2017-02-09     Class X   \n",
       "\n",
       "                            Holding Offense Sentence Years Sentence Months  \\\n",
       "0      ATTEMPT MURDER/INTENT TO KILL/INJURE           0050              00   \n",
       "1               AGG CRIM SEX ASSAULT/WEAPON           0060              00   \n",
       "2              MURDER/INTENT TO KILL/INJURE           LIFE                   \n",
       "3              MURDER/INTENT TO KILL/INJURE           LIFE                   \n",
       "4              MURDER/INTENT TO KILL/INJURE           LIFE                   \n",
       "...                                     ...            ...             ...   \n",
       "32043      PRED CRIM SEX ASSLAUT/VICTIM <13           0060              00   \n",
       "32044        POSS AMT CON SUB EXCEPT(A)/(D)           0001              00   \n",
       "32045        POSS AMT CON SUB EXCEPT(A)/(D)           0003              00   \n",
       "32046         AGG CRIM SEX ABUSE/VICTIM <13           0003              00   \n",
       "32047        AGG CRIM SEX ASSAULT/VICTIM <9           0015              00   \n",
       "\n",
       "      Truth in Sentencing Sentencing County  \n",
       "0             Day-for-Day            Jasper  \n",
       "1             Day-for-Day              Cook  \n",
       "2             Day-for-Day              Will  \n",
       "3             Day-for-Day              Cook  \n",
       "4             Day-for-Day              Cook  \n",
       "...                   ...               ...  \n",
       "32043                 85%           Madison  \n",
       "32044         Day-for-Day           Madison  \n",
       "32045         Day-for-Day         Jefferson  \n",
       "32046         Day-for-Day              Cook  \n",
       "32047                 85%              Cook  \n",
       "\n",
       "[32048 rows x 19 columns]"
      ]
     },
     "execution_count": 21,
     "metadata": {},
     "output_type": "execute_result"
    }
   ],
   "source": [
    "df"
   ]
  },
  {
   "cell_type": "code",
   "execution_count": 53,
   "metadata": {},
   "outputs": [],
   "source": [
    "# VARIABLES TO BE USED IN MULTIPLE CALCULATIONS\n",
    "\n",
    "# Costs\n",
    "costOfAnInmate = 34135\n",
    "costOfAnInmateOverSixty = 68270\n",
    "\n",
    "# EDR Hearings per month limit\n",
    "maxHearingsPerMonth2022 = 500\n",
    "\n",
    "# Grant rates\n",
    "conservativeGrantRate = .197\n",
    "semiconservativeGrantRate = .356\n",
    "liberalGrantRate = .465\n",
    "\n",
    "# Inmates qualified for EDR prior to January 1st, 2022\n",
    "before2022 = pd.to_datetime(str(2022 - 20) + \"-01-01\")\n",
    "qualifiedBefore2022 = len(df.loc[(df[\"Custody Date\"] < before2022)])"
   ]
  },
  {
   "cell_type": "markdown",
   "metadata": {},
   "source": [
    "# Statistics for Inmates Granted EDR in 2022\n",
    "### Number of Inmates Released by End of 2022, and Savings from Doing So"
   ]
  },
  {
   "cell_type": "code",
   "execution_count": 54,
   "metadata": {},
   "outputs": [
    {
     "name": "stdout",
     "output_type": "stream",
     "text": [
      "4408\n",
      "150467080\n"
     ]
    }
   ],
   "source": [
    "#Calculate the number of inmates who will have served 20 years of their sentence by 2022\n",
    "twentyYearsServedDate = pd.to_datetime(str(2022 - 20) + \"-12-31\")\n",
    "\n",
    "numReleased = len(df.loc[df[\"Custody Date\"] <= twentyYearsServedDate])\n",
    "\n",
    "#Savings from the reduction in inmate population\n",
    "savings = numReleased * costOfAnInmate\n",
    "print(numReleased)\n",
    "print(savings)\n",
    "\n",
    "#Calculate the cost of all hearings that will occur in 2022\n",
    "#============NEED TO FINISH THIS===============================================================\n",
    "#============NEED TO FINISH THIS===============================================================\n",
    "#============NEED TO FINISH THIS===============================================================\n",
    "#============NEED TO FINISH THIS===============================================================\n",
    "#============NEED TO FINISH THIS===============================================================\n",
    "#============NEED TO FINISH THIS===============================================================\n",
    "#============NEED TO FINISH THIS===============================================================\n",
    "#============NEED TO FINISH THIS===============================================================\n",
    "\n",
    "\n",
    "\n",
    "#STILL NEED TO CREATE PLOT FOR THIS DATA FROM JANUARY 2022 TO DECEMBER 2022"
   ]
  },
  {
   "cell_type": "markdown",
   "metadata": {},
   "source": [
    "The statistics below have been calculated assuming all inmates who have served 20, or more years of their sentence by the end of 2022, will be granted Earned Discretionary Release(EDR) <br>\n",
    "\n",
    "- Number of inmates granted EDR with a 100% grant rate: 4408\n",
    "- Savings to the state of Illinois due to the inmate population reduction: $150,467,080\n",
    "- STILL NEED TO DO COST OF ADDITIONAL EDR HEARINGS!!!!!!!!!!!!!!!!!!!!!!!!!!!!!!!!!!!!\n",
    "<br>\n",
    "\n",
    "The number of inmates granted EDR by December 31st, 2022 includes inmates who served 20 years or more of their sentence prior to January 1st, 2022."
   ]
  },
  {
   "cell_type": "markdown",
   "metadata": {},
   "source": [
    "### How Calculations were Made\n",
    "- I pulled out all inmates who started their sentences on December 31st, 2002 or earlier from the whole data set. The size of this subset is the number of people who will be granted EDR in 2022\n",
    "- The cost per incarcerated person per year is \\\\$34,135. To calculate the total savings, the number of inmates who will be released by the end of 2022 was multiplied by \\\\$34,135."
   ]
  },
  {
   "cell_type": "markdown",
   "metadata": {},
   "source": [
    "### Plot number of Inmates Granted Parole per Month With 100% Grant Rate"
   ]
  },
  {
   "cell_type": "code",
   "execution_count": 55,
   "metadata": {},
   "outputs": [
    {
     "data": {
      "image/png": "[encoded data removed]",
      "text/plain": [
       "<Figure size 720x360 with 1 Axes>"
      ]
     },
     "metadata": {
      "needs_background": "light"
     },
     "output_type": "display_data"
    }
   ],
   "source": [
    "monthlyNumReleased = []\n",
    "spillOver = qualifiedBefore2022\n",
    "#Store data that will be plotted\n",
    "for month in range(1, 13):\n",
    "    startOfMonth = pd.to_datetime(str(2022 - 20) + \"-\"+ str(month) + \"-01\")\n",
    "    endOfMonth = pd.to_datetime(str(2022 - 20) + \"-\"+ str(month)) + MonthEnd(0)\n",
    "    \n",
    "    numQualifiedDuringMonth = len(df.loc[(df[\"Custody Date\"] >= startOfMonth) & (df[\"Custody Date\"] <= endOfMonth)])\n",
    "    numReleased = numQualifiedDuringMonth + spillOver\n",
    "    \n",
    "    #Account for limits to number of hearings per month\n",
    "    if(numReleased >= maxHearingsPerMonth2022):\n",
    "        monthlyNumReleased.append(maxHearingsPerMonth2022)\n",
    "        spillOver = spillOver - (maxHearingsPerMonth2022 - numQualifiedDuringMonth)\n",
    "    elif(numReleased >= 0):\n",
    "        monthlyNumReleased.append(numReleased)\n",
    "        spillOver = 0\n",
    "    else:\n",
    "        monthlyNumReleased.append(numReleased)\n",
    "        \n",
    "# Plot EDR hearing data\n",
    "plt.figure(figsize=(10,5))\n",
    "plt.bar(['Jan', 'Feb', 'Mar', 'Apr', 'May', 'Jun', 'Jul', 'Aug', 'Sep', 'Oct', 'Nov', 'Dec'], monthlyNumReleased)\n",
    "plt.title(\"Number of EDR Hearings per Month in 2022\")\n",
    "plt.xlabel(\"Month\")\n",
    "plt.ylabel(\"Number of EDR Hearings\")\n",
    "plt.show()"
   ]
  },
  {
   "cell_type": "markdown",
   "metadata": {},
   "source": [
    "### How Calculations were Made\n",
    "- The maximum number of EDR hearings per month is 500 hearings. There were 3908 inmates who qualified for EDR prior to Januart 1st, 2022. Inmates who served exactly 20 years of their sentence in a given month were given an EDR hearing that month. The remaining number of inmates a committee can see, up to 500, is filled by inmates who served 20 years, or more of their sentences prior to January 1st, 2022. Remaining inmates are rolled over to the next month."
   ]
  },
  {
   "cell_type": "markdown",
   "metadata": {},
   "source": [
    "# Statistics for Number of Inmates 60, or Older to be Released in 2022"
   ]
  },
  {
   "cell_type": "code",
   "execution_count": 25,
   "metadata": {},
   "outputs": [],
   "source": [
    "def calcNumInmatesOfAgeInRange(startYear, endYear, age, grantRate):\n",
    "    numInmatesDenied = [0,0]\n",
    "    numEDRHearings = []\n",
    "    \n",
    "    for year in range(startYear, endYear + 1):\n",
    "        birthdateCutoff = pd.to_datetime(str(year - age) + \"-12-31\")\n",
    "        dfAgeAndOlder = df.loc[(df[\"Date of Birth\"] <= birthdateCutoff)]\n",
    "\n",
    "        twentyYearsServedDate = pd.to_datetime(str(year - 20) + \"-12-31\")\n",
    "        numOverAgeReleased = len(dfAgeAndOlder.loc[df[\"Custody Date\"] <= twentyYearsServedDate])\n",
    "        \n",
    "        #Start accounting for inmates reapplying for parole 2 years after startYear\n",
    "        if(year == startYear): #Initialize array with denied inmates for first 2 years\n",
    "            numInmatesDenied[0] = numOverAgeReleased * (1 - grantRate)\n",
    "            numEDRHearings.append(numOverAgeReleased)\n",
    "        elif(year == startYear + 1):\n",
    "            numInmatesDenied[1] = numOverAgeReleased * (1 - grantRate)\n",
    "            numEDRHearings.append(numOverAgeReleased)\n",
    "        elif(year >= startYear + 2):\n",
    "            twoYearsBack = numInmatesDenied[0]\n",
    "            numEDRHearings.append(numOverAgeReleased + numInmatesDenied[0])\n",
    "            numInmatesDenied[0] = numInmatesDenied[1]\n",
    "            numInmatesDenied[1] = (numOverAgeReleased + twoYearsBack) * (1 - grantRate)\n",
    "            \n",
    "    return (int(sum(numEDRHearings) * grantRate), numEDRHearings, grantRate) #Cast to int truncates"
   ]
  },
  {
   "cell_type": "code",
   "execution_count": 26,
   "metadata": {},
   "outputs": [
    {
     "name": "stdout",
     "output_type": "stream",
     "text": [
      "1252\n",
      "85474040\n"
     ]
    }
   ],
   "source": [
    "numOverSixty = calcNumInmatesOfAgeInRange(2022, 2022, 60, 1)\n",
    "\n",
    "print(numOverSixty[0])\n",
    "print(numOverSixty[0] * costOfAnInmateOverSixty)"
   ]
  },
  {
   "cell_type": "markdown",
   "metadata": {},
   "source": [
    "- Number of inmates over 60 and served >= 20 years of their sentence: 1252\n",
    "- Savings from releasing inmates over 60, served >= 20 years of sentence: $85,474,040"
   ]
  },
  {
   "cell_type": "markdown",
   "metadata": {},
   "source": [
    "### How Calculations were Made\n",
    "- I pulled out inmates who were over the age of 60 by December 31st, 2022, and who had served 20 years, or more of their sentence by December 31st, 2022. The size of this subset of inmates is the value for the number of inmates over the age of 60, who qualify for EDR. This assumes a grant rate of 100%.\n",
    "\n",
    "- The cost per incarcerated person 60 or older per year is \\\\$68,270. To calculate the total savings, the number of inmates 60 or older who will be released by the end of 2022 was multiplied by \\\\$68,270."
   ]
  },
  {
   "cell_type": "markdown",
   "metadata": {},
   "source": [
    "# Statistics for Number of Inmates 60, or Older to be Released in 2022-2027, and 2022-2032"
   ]
  },
  {
   "cell_type": "code",
   "execution_count": 27,
   "metadata": {},
   "outputs": [
    {
     "name": "stdout",
     "output_type": "stream",
     "text": [
      "12095\n",
      "825725650\n",
      "3482\n",
      "237716140\n",
      "\n",
      "\n",
      "5718\n",
      "390367860\n",
      "18336\n",
      "1251798720\n",
      "\n",
      "\n",
      "6991\n",
      "477275570\n",
      "21417\n",
      "1462138590\n"
     ]
    }
   ],
   "source": [
    "fiveYearsConservative = calcNumInmatesOfAgeInRange(2022, 2032, 60, conservativeGrantRate)\n",
    "tenYearsConservative = calcNumInmatesOfAgeInRange(2022, 2027, 60, conservativeGrantRate)\n",
    "\n",
    "print(fiveYearsConservative[0])\n",
    "print(fiveYearsConservative[0] * costOfAnInmateOverSixty)\n",
    "print(tenYearsConservative[0])\n",
    "print(tenYearsConservative[0] * costOfAnInmateOverSixty)\n",
    "print('\\n')\n",
    "\n",
    "fiveYearsMedium = calcNumInmatesOfAgeInRange(2022, 2027, 60, semiconservativeGrantRate)\n",
    "tenYearsMedium = calcNumInmatesOfAgeInRange(2022, 2032, 60, semiconservativeGrantRate)\n",
    "print(fiveYearsMedium[0])\n",
    "print(fiveYearsMedium[0] * costOfAnInmateOverSixty)\n",
    "print(tenYearsMedium[0])\n",
    "print(tenYearsMedium[0] * costOfAnInmateOverSixty)\n",
    "print('\\n')\n",
    "\n",
    "fiveYearsLiberal = calcNumInmatesOfAgeInRange(2022, 2027, 60, liberalGrantRate)\n",
    "tenYearsLiberal = calcNumInmatesOfAgeInRange(2022, 2032, 60, liberalGrantRate)\n",
    "print(fiveYearsLiberal[0])\n",
    "print(fiveYearsLiberal[0] * costOfAnInmateOverSixty)\n",
    "print(tenYearsLiberal[0])\n",
    "print(tenYearsLiberal[0] * costOfAnInmateOverSixty)"
   ]
  },
  {
   "cell_type": "code",
   "execution_count": 35,
   "metadata": {},
   "outputs": [
    {
     "data": {
      "image/png": "[encoded data removed]",
      "text/plain": [
       "<Figure size 720x360 with 1 Axes>"
      ]
     },
     "metadata": {
      "needs_background": "light"
     },
     "output_type": "display_data"
    },
    {
     "data": {
      "image/png": "[encoded data removed]",
      "text/plain": [
       "<Figure size 720x360 with 1 Axes>"
      ]
     },
     "metadata": {
      "needs_background": "light"
     },
     "output_type": "display_data"
    },
    {
     "data": {
      "image/png": "[encoded data removed]",
      "text/plain": [
       "<Figure size 720x360 with 1 Axes>"
      ]
     },
     "metadata": {
      "needs_background": "light"
     },
     "output_type": "display_data"
    },
    {
     "data": {
      "image/png": "[encoded data removed]",
      "text/plain": [
       "<Figure size 720x360 with 1 Axes>"
      ]
     },
     "metadata": {
      "needs_background": "light"
     },
     "output_type": "display_data"
    },
    {
     "data": {
      "image/png": "[encoded data removed]",
      "text/plain": [
       "<Figure size 720x360 with 1 Axes>"
      ]
     },
     "metadata": {
      "needs_background": "light"
     },
     "output_type": "display_data"
    },
    {
     "data": {
      "image/png": "[encoded data removed]",
      "text/plain": [
       "<Figure size 720x360 with 1 Axes>"
      ]
     },
     "metadata": {
      "needs_background": "light"
     },
     "output_type": "display_data"
    }
   ],
   "source": [
    "#Plot number of inmates released per year\n",
    "for yearlyNumReleased in [fiveYearsConservative, tenYearsConservative, fiveYearsMedium,\n",
    "                          tenYearsMedium, fiveYearsLiberal, tenYearsLiberal]:\n",
    "    plt.figure(figsize=(10,5))\n",
    "    plt.bar(range(2022, 2022 + len(yearlyNumReleased[1])), [int(x * yearlyNumReleased[2]) for x in yearlyNumReleased[1]])\n",
    "    plt.title(\"Number of Inmates Released per Year from 2022 - \" + str(2021 + len(yearlyNumReleased[1]))+\n",
    "              \" With a Grant Rate of \" + str(yearlyNumReleased[2] * 100) + \"%\")\n",
    "    plt.xlabel(\"Year\")\n",
    "    plt.ylabel(\"Number of Inmates Released\")\n",
    "    plt.show()"
   ]
  },
  {
   "cell_type": "markdown",
   "metadata": {},
   "source": [
    "### How Calculations were Made\n",
    "- For the time ranges, 2022-2027 and 2022 - 2032, I pulled out inmates who were over the age of 60 by December 31st per year in the time range, and who had served 20 years, or more of their sentence by December 31st of the same year. The size of this subset of inmates times the grant rates of 19.7%, 35.6%, and 46.5% is the value for the number of inmates over the age of 60, who qualify for EDR in a given year. The sum of this subset per year is the final value.\n",
    "\n",
    "- The cost per incarcerated person 60 or older per year is \\\\$68,270. To calculate the total savings, the number of inmates 60 or older who will be released in 2022-2027 or 2022 - 2032, given a grant rate of 19.7%, 35.6%, or 46.5% was multiplied by \\\\$68,270."
   ]
  },
  {
   "cell_type": "code",
   "execution_count": null,
   "metadata": {},
   "outputs": [],
   "source": []
  },
  {
   "cell_type": "markdown",
   "metadata": {},
   "source": [
    "# James' work below this cell, Neel's above"
   ]
  },
  {
   "cell_type": "code",
   "execution_count": null,
   "metadata": {},
   "outputs": [],
   "source": []
  }
 ],
 "metadata": {
  "kernelspec": {
   "display_name": "Python 3",
   "language": "python",
   "name": "python3"
  },
  "language_info": {
   "codemirror_mode": {
    "name": "ipython",
    "version": 3
   },
   "file_extension": ".py",
   "mimetype": "text/x-python",
   "name": "python",
   "nbconvert_exporter": "python",
   "pygments_lexer": "ipython3",
   "version": "3.7.4"
  }
 },
 "nbformat": 4,
 "nbformat_minor": 4
}
